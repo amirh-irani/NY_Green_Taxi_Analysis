{
 "cells": [
  {
   "cell_type": "markdown",
   "id": "9dd352a4",
   "metadata": {},
   "source": [
    "# Entity Relationship diagram for my Datasest"
   ]
  },
  {
   "cell_type": "markdown",
   "id": "1335a5be",
   "metadata": {},
   "source": [
    "## Explanation"
   ]
  },
  {
   "cell_type": "markdown",
   "id": "2db590d5",
   "metadata": {},
   "source": [
    "I have 3 different datasets:\n",
    "<ul> 2018_Green_Taxi_Trip_Data </ul>\n",
    "<ul> 2019_Green_Taxi_Trip_Data </ul>\n",
    "<ul> 2020_Green_Taxi_Trip_Data </ul>\n",
    "These three datasset hase all the same columns, excepr for 2018 which has one less column compared to the others, and that is 'congestion_surcharge'. \n",
    "\n",
    "To merge these three datasets, all I need to do, is to concatenate them along the rows. This way, I will have 10500 rows, each of which consist of 20 features. \n",
    "It is important to note that by concatenating these datasests, a congestion surcharge column will be placed for 2918 datasets, and all of the coresponding values will becom NaN immediatly. "
   ]
  },
  {
   "cell_type": "code",
   "execution_count": 1,
   "id": "cb90912a-39a9-4ff8-9ea5-53928caf8441",
   "metadata": {},
   "outputs": [],
   "source": [
    "import numpy as np\n",
    "import pandas as pd\n",
    "import matplotlib.pyplot as plt"
   ]
  },
  {
   "cell_type": "markdown",
   "id": "8ed77c6d",
   "metadata": {},
   "source": [
    "As there are too many data rows in each dataset, I have to take samples of data.\n",
    "So I will create a function 'skip_row(n,k)' to produce a skip list, then I will use it in\n",
    "pd.read_csv() function as for taking samples of data. "
   ]
  },
  {
   "cell_type": "markdown",
   "id": "bb67ad9c",
   "metadata": {},
   "source": [
    "Also I make a list for column names, so I will assign headers manually. "
   ]
  },
  {
   "cell_type": "code",
   "execution_count": 6,
   "id": "233c14c9",
   "metadata": {},
   "outputs": [],
   "source": [
    "from random import sample\n",
    "\n",
    "def skip_rows(n,k=3500):\n",
    "    skip = sample(range(n), n-k)\n",
    "    return skip\n",
    "\n",
    "names = ['VendorID','lpep_pickup_datetime','lpep_dropoff_datetime','store_and_fwd_flag','RatecodeID','PULocationID',\n",
    "'DOLocationID','passenger_count','trip_distance','fare_amount','extra','mta_tax','tip_amount','tolls_amount',\n",
    "'ehail_fee','improvement_surcharge','total_amount','payment_type','trip_type','congestion_surcharge']"
   ]
  },
  {
   "cell_type": "markdown",
   "id": "94c2da66",
   "metadata": {},
   "source": [
    "Defining the path of the datasets for addressing in the read_csv function"
   ]
  },
  {
   "cell_type": "code",
   "execution_count": 14,
   "id": "7c3c5694",
   "metadata": {},
   "outputs": [],
   "source": [
    "path = 'D:/Winnipeg_AI program/Foundations of Data Science/Assignments/2/'"
   ]
  },
  {
   "cell_type": "markdown",
   "id": "aa2fefd8",
   "metadata": {},
   "source": [
    "Reading and loading the 2020, 2019, and 2018 data sets in descending order and looking at the head of each of them"
   ]
  },
  {
   "cell_type": "code",
   "execution_count": 15,
   "id": "4182df98",
   "metadata": {},
   "outputs": [
    {
     "data": {
      "text/html": [
       "<div>\n",
       "<style scoped>\n",
       "    .dataframe tbody tr th:only-of-type {\n",
       "        vertical-align: middle;\n",
       "    }\n",
       "\n",
       "    .dataframe tbody tr th {\n",
       "        vertical-align: top;\n",
       "    }\n",
       "\n",
       "    .dataframe thead th {\n",
       "        text-align: right;\n",
       "    }\n",
       "</style>\n",
       "<table border=\"1\" class=\"dataframe\">\n",
       "  <thead>\n",
       "    <tr style=\"text-align: right;\">\n",
       "      <th></th>\n",
       "      <th>VendorID</th>\n",
       "      <th>lpep_pickup_datetime</th>\n",
       "      <th>lpep_dropoff_datetime</th>\n",
       "      <th>store_and_fwd_flag</th>\n",
       "      <th>RatecodeID</th>\n",
       "      <th>PULocationID</th>\n",
       "      <th>DOLocationID</th>\n",
       "      <th>passenger_count</th>\n",
       "      <th>trip_distance</th>\n",
       "      <th>fare_amount</th>\n",
       "      <th>extra</th>\n",
       "      <th>mta_tax</th>\n",
       "      <th>tip_amount</th>\n",
       "      <th>tolls_amount</th>\n",
       "      <th>ehail_fee</th>\n",
       "      <th>improvement_surcharge</th>\n",
       "      <th>total_amount</th>\n",
       "      <th>payment_type</th>\n",
       "      <th>trip_type</th>\n",
       "      <th>congestion_surcharge</th>\n",
       "    </tr>\n",
       "  </thead>\n",
       "  <tbody>\n",
       "    <tr>\n",
       "      <th>0</th>\n",
       "      <td>1.0</td>\n",
       "      <td>01/01/2020 12:50:36 AM</td>\n",
       "      <td>01/01/2020 01:24:19 AM</td>\n",
       "      <td>N</td>\n",
       "      <td>1.0</td>\n",
       "      <td>215</td>\n",
       "      <td>116</td>\n",
       "      <td>1.0</td>\n",
       "      <td>0.00</td>\n",
       "      <td>39.2</td>\n",
       "      <td>0.0</td>\n",
       "      <td>0.5</td>\n",
       "      <td>0.00</td>\n",
       "      <td>6.12</td>\n",
       "      <td>NaN</td>\n",
       "      <td>0.3</td>\n",
       "      <td>46.12</td>\n",
       "      <td>1.0</td>\n",
       "      <td>1.0</td>\n",
       "      <td>0.0</td>\n",
       "    </tr>\n",
       "    <tr>\n",
       "      <th>1</th>\n",
       "      <td>2.0</td>\n",
       "      <td>01/01/2020 12:49:41 AM</td>\n",
       "      <td>01/01/2020 12:59:06 AM</td>\n",
       "      <td>N</td>\n",
       "      <td>1.0</td>\n",
       "      <td>75</td>\n",
       "      <td>41</td>\n",
       "      <td>2.0</td>\n",
       "      <td>1.87</td>\n",
       "      <td>8.5</td>\n",
       "      <td>0.5</td>\n",
       "      <td>0.5</td>\n",
       "      <td>1.96</td>\n",
       "      <td>0.00</td>\n",
       "      <td>NaN</td>\n",
       "      <td>0.3</td>\n",
       "      <td>11.76</td>\n",
       "      <td>1.0</td>\n",
       "      <td>1.0</td>\n",
       "      <td>0.0</td>\n",
       "    </tr>\n",
       "    <tr>\n",
       "      <th>2</th>\n",
       "      <td>2.0</td>\n",
       "      <td>01/01/2020 01:30:23 AM</td>\n",
       "      <td>01/01/2020 01:42:10 AM</td>\n",
       "      <td>N</td>\n",
       "      <td>1.0</td>\n",
       "      <td>70</td>\n",
       "      <td>173</td>\n",
       "      <td>1.0</td>\n",
       "      <td>1.90</td>\n",
       "      <td>9.5</td>\n",
       "      <td>0.5</td>\n",
       "      <td>0.5</td>\n",
       "      <td>0.00</td>\n",
       "      <td>0.00</td>\n",
       "      <td>NaN</td>\n",
       "      <td>0.3</td>\n",
       "      <td>10.80</td>\n",
       "      <td>2.0</td>\n",
       "      <td>1.0</td>\n",
       "      <td>0.0</td>\n",
       "    </tr>\n",
       "    <tr>\n",
       "      <th>3</th>\n",
       "      <td>2.0</td>\n",
       "      <td>01/01/2020 01:45:55 AM</td>\n",
       "      <td>01/01/2020 02:04:32 AM</td>\n",
       "      <td>N</td>\n",
       "      <td>1.0</td>\n",
       "      <td>153</td>\n",
       "      <td>69</td>\n",
       "      <td>1.0</td>\n",
       "      <td>4.39</td>\n",
       "      <td>16.5</td>\n",
       "      <td>0.5</td>\n",
       "      <td>0.5</td>\n",
       "      <td>0.00</td>\n",
       "      <td>0.00</td>\n",
       "      <td>NaN</td>\n",
       "      <td>0.3</td>\n",
       "      <td>17.80</td>\n",
       "      <td>2.0</td>\n",
       "      <td>1.0</td>\n",
       "      <td>0.0</td>\n",
       "    </tr>\n",
       "    <tr>\n",
       "      <th>4</th>\n",
       "      <td>2.0</td>\n",
       "      <td>01/01/2020 03:13:49 AM</td>\n",
       "      <td>01/01/2020 03:16:07 AM</td>\n",
       "      <td>N</td>\n",
       "      <td>1.0</td>\n",
       "      <td>255</td>\n",
       "      <td>255</td>\n",
       "      <td>1.0</td>\n",
       "      <td>0.53</td>\n",
       "      <td>4.0</td>\n",
       "      <td>0.5</td>\n",
       "      <td>0.5</td>\n",
       "      <td>1.06</td>\n",
       "      <td>0.00</td>\n",
       "      <td>NaN</td>\n",
       "      <td>0.3</td>\n",
       "      <td>6.36</td>\n",
       "      <td>1.0</td>\n",
       "      <td>1.0</td>\n",
       "      <td>0.0</td>\n",
       "    </tr>\n",
       "  </tbody>\n",
       "</table>\n",
       "</div>"
      ],
      "text/plain": [
       "   VendorID    lpep_pickup_datetime   lpep_dropoff_datetime  \\\n",
       "0       1.0  01/01/2020 12:50:36 AM  01/01/2020 01:24:19 AM   \n",
       "1       2.0  01/01/2020 12:49:41 AM  01/01/2020 12:59:06 AM   \n",
       "2       2.0  01/01/2020 01:30:23 AM  01/01/2020 01:42:10 AM   \n",
       "3       2.0  01/01/2020 01:45:55 AM  01/01/2020 02:04:32 AM   \n",
       "4       2.0  01/01/2020 03:13:49 AM  01/01/2020 03:16:07 AM   \n",
       "\n",
       "  store_and_fwd_flag  RatecodeID  PULocationID  DOLocationID  passenger_count  \\\n",
       "0                  N         1.0           215           116              1.0   \n",
       "1                  N         1.0            75            41              2.0   \n",
       "2                  N         1.0            70           173              1.0   \n",
       "3                  N         1.0           153            69              1.0   \n",
       "4                  N         1.0           255           255              1.0   \n",
       "\n",
       "   trip_distance  fare_amount  extra  mta_tax  tip_amount  tolls_amount  \\\n",
       "0           0.00         39.2    0.0      0.5        0.00          6.12   \n",
       "1           1.87          8.5    0.5      0.5        1.96          0.00   \n",
       "2           1.90          9.5    0.5      0.5        0.00          0.00   \n",
       "3           4.39         16.5    0.5      0.5        0.00          0.00   \n",
       "4           0.53          4.0    0.5      0.5        1.06          0.00   \n",
       "\n",
       "   ehail_fee  improvement_surcharge  total_amount  payment_type  trip_type  \\\n",
       "0        NaN                    0.3         46.12           1.0        1.0   \n",
       "1        NaN                    0.3         11.76           1.0        1.0   \n",
       "2        NaN                    0.3         10.80           2.0        1.0   \n",
       "3        NaN                    0.3         17.80           2.0        1.0   \n",
       "4        NaN                    0.3          6.36           1.0        1.0   \n",
       "\n",
       "   congestion_surcharge  \n",
       "0                   0.0  \n",
       "1                   0.0  \n",
       "2                   0.0  \n",
       "3                   0.0  \n",
       "4                   0.0  "
      ]
     },
     "execution_count": 15,
     "metadata": {},
     "output_type": "execute_result"
    }
   ],
   "source": [
    "df_2020 = pd.read_csv(path+'2020_Green_Taxi_Trip_Data.csv', skiprows=skip_rows(n=1734053, k=3500), names=names, header=None)\n",
    "df_2020.head()"
   ]
  },
  {
   "cell_type": "code",
   "execution_count": 18,
   "id": "7eee1c09",
   "metadata": {},
   "outputs": [
    {
     "data": {
      "text/html": [
       "<div>\n",
       "<style scoped>\n",
       "    .dataframe tbody tr th:only-of-type {\n",
       "        vertical-align: middle;\n",
       "    }\n",
       "\n",
       "    .dataframe tbody tr th {\n",
       "        vertical-align: top;\n",
       "    }\n",
       "\n",
       "    .dataframe thead th {\n",
       "        text-align: right;\n",
       "    }\n",
       "</style>\n",
       "<table border=\"1\" class=\"dataframe\">\n",
       "  <thead>\n",
       "    <tr style=\"text-align: right;\">\n",
       "      <th></th>\n",
       "      <th>VendorID</th>\n",
       "      <th>lpep_pickup_datetime</th>\n",
       "      <th>lpep_dropoff_datetime</th>\n",
       "      <th>store_and_fwd_flag</th>\n",
       "      <th>RatecodeID</th>\n",
       "      <th>PULocationID</th>\n",
       "      <th>DOLocationID</th>\n",
       "      <th>passenger_count</th>\n",
       "      <th>trip_distance</th>\n",
       "      <th>fare_amount</th>\n",
       "      <th>extra</th>\n",
       "      <th>mta_tax</th>\n",
       "      <th>tip_amount</th>\n",
       "      <th>tolls_amount</th>\n",
       "      <th>ehail_fee</th>\n",
       "      <th>improvement_surcharge</th>\n",
       "      <th>total_amount</th>\n",
       "      <th>payment_type</th>\n",
       "      <th>trip_type</th>\n",
       "      <th>congestion_surcharge</th>\n",
       "    </tr>\n",
       "  </thead>\n",
       "  <tbody>\n",
       "    <tr>\n",
       "      <th>0</th>\n",
       "      <td>2.0</td>\n",
       "      <td>02/01/2019 05:42:14 AM</td>\n",
       "      <td>02/01/2019 05:59:30 AM</td>\n",
       "      <td>N</td>\n",
       "      <td>5.0</td>\n",
       "      <td>22</td>\n",
       "      <td>40</td>\n",
       "      <td>1.0</td>\n",
       "      <td>8.83</td>\n",
       "      <td>24.44</td>\n",
       "      <td>0.0</td>\n",
       "      <td>0.5</td>\n",
       "      <td>0.0</td>\n",
       "      <td>0.0</td>\n",
       "      <td>NaN</td>\n",
       "      <td>0.0</td>\n",
       "      <td>24.94</td>\n",
       "      <td>1.0</td>\n",
       "      <td>2.0</td>\n",
       "      <td>0.0</td>\n",
       "    </tr>\n",
       "    <tr>\n",
       "      <th>1</th>\n",
       "      <td>2.0</td>\n",
       "      <td>02/01/2019 12:58:08 PM</td>\n",
       "      <td>02/01/2019 01:12:18 PM</td>\n",
       "      <td>N</td>\n",
       "      <td>1.0</td>\n",
       "      <td>75</td>\n",
       "      <td>236</td>\n",
       "      <td>1.0</td>\n",
       "      <td>1.89</td>\n",
       "      <td>10.50</td>\n",
       "      <td>0.0</td>\n",
       "      <td>0.5</td>\n",
       "      <td>0.0</td>\n",
       "      <td>0.0</td>\n",
       "      <td>NaN</td>\n",
       "      <td>0.3</td>\n",
       "      <td>11.30</td>\n",
       "      <td>1.0</td>\n",
       "      <td>1.0</td>\n",
       "      <td>0.0</td>\n",
       "    </tr>\n",
       "    <tr>\n",
       "      <th>2</th>\n",
       "      <td>2.0</td>\n",
       "      <td>02/01/2019 01:48:16 PM</td>\n",
       "      <td>02/01/2019 01:54:23 PM</td>\n",
       "      <td>N</td>\n",
       "      <td>1.0</td>\n",
       "      <td>7</td>\n",
       "      <td>146</td>\n",
       "      <td>1.0</td>\n",
       "      <td>0.86</td>\n",
       "      <td>6.00</td>\n",
       "      <td>0.0</td>\n",
       "      <td>0.5</td>\n",
       "      <td>0.0</td>\n",
       "      <td>0.0</td>\n",
       "      <td>NaN</td>\n",
       "      <td>0.3</td>\n",
       "      <td>6.80</td>\n",
       "      <td>2.0</td>\n",
       "      <td>1.0</td>\n",
       "      <td>0.0</td>\n",
       "    </tr>\n",
       "    <tr>\n",
       "      <th>3</th>\n",
       "      <td>1.0</td>\n",
       "      <td>02/01/2019 01:43:17 PM</td>\n",
       "      <td>02/01/2019 01:50:07 PM</td>\n",
       "      <td>N</td>\n",
       "      <td>1.0</td>\n",
       "      <td>210</td>\n",
       "      <td>150</td>\n",
       "      <td>1.0</td>\n",
       "      <td>1.30</td>\n",
       "      <td>7.00</td>\n",
       "      <td>0.0</td>\n",
       "      <td>0.5</td>\n",
       "      <td>2.3</td>\n",
       "      <td>0.0</td>\n",
       "      <td>NaN</td>\n",
       "      <td>0.3</td>\n",
       "      <td>10.10</td>\n",
       "      <td>1.0</td>\n",
       "      <td>1.0</td>\n",
       "      <td>0.0</td>\n",
       "    </tr>\n",
       "    <tr>\n",
       "      <th>4</th>\n",
       "      <td>2.0</td>\n",
       "      <td>02/01/2019 01:44:45 PM</td>\n",
       "      <td>02/01/2019 01:45:18 PM</td>\n",
       "      <td>N</td>\n",
       "      <td>1.0</td>\n",
       "      <td>92</td>\n",
       "      <td>92</td>\n",
       "      <td>1.0</td>\n",
       "      <td>0.03</td>\n",
       "      <td>-2.50</td>\n",
       "      <td>0.0</td>\n",
       "      <td>-0.5</td>\n",
       "      <td>0.0</td>\n",
       "      <td>0.0</td>\n",
       "      <td>NaN</td>\n",
       "      <td>-0.3</td>\n",
       "      <td>-3.30</td>\n",
       "      <td>4.0</td>\n",
       "      <td>1.0</td>\n",
       "      <td>0.0</td>\n",
       "    </tr>\n",
       "  </tbody>\n",
       "</table>\n",
       "</div>"
      ],
      "text/plain": [
       "   VendorID    lpep_pickup_datetime   lpep_dropoff_datetime  \\\n",
       "0       2.0  02/01/2019 05:42:14 AM  02/01/2019 05:59:30 AM   \n",
       "1       2.0  02/01/2019 12:58:08 PM  02/01/2019 01:12:18 PM   \n",
       "2       2.0  02/01/2019 01:48:16 PM  02/01/2019 01:54:23 PM   \n",
       "3       1.0  02/01/2019 01:43:17 PM  02/01/2019 01:50:07 PM   \n",
       "4       2.0  02/01/2019 01:44:45 PM  02/01/2019 01:45:18 PM   \n",
       "\n",
       "  store_and_fwd_flag  RatecodeID  PULocationID  DOLocationID  passenger_count  \\\n",
       "0                  N         5.0            22            40              1.0   \n",
       "1                  N         1.0            75           236              1.0   \n",
       "2                  N         1.0             7           146              1.0   \n",
       "3                  N         1.0           210           150              1.0   \n",
       "4                  N         1.0            92            92              1.0   \n",
       "\n",
       "   trip_distance  fare_amount  extra  mta_tax  tip_amount  tolls_amount  \\\n",
       "0           8.83        24.44    0.0      0.5         0.0           0.0   \n",
       "1           1.89        10.50    0.0      0.5         0.0           0.0   \n",
       "2           0.86         6.00    0.0      0.5         0.0           0.0   \n",
       "3           1.30         7.00    0.0      0.5         2.3           0.0   \n",
       "4           0.03        -2.50    0.0     -0.5         0.0           0.0   \n",
       "\n",
       "   ehail_fee  improvement_surcharge  total_amount  payment_type  trip_type  \\\n",
       "0        NaN                    0.0         24.94           1.0        2.0   \n",
       "1        NaN                    0.3         11.30           1.0        1.0   \n",
       "2        NaN                    0.3          6.80           2.0        1.0   \n",
       "3        NaN                    0.3         10.10           1.0        1.0   \n",
       "4        NaN                   -0.3         -3.30           4.0        1.0   \n",
       "\n",
       "   congestion_surcharge  \n",
       "0                   0.0  \n",
       "1                   0.0  \n",
       "2                   0.0  \n",
       "3                   0.0  \n",
       "4                   0.0  "
      ]
     },
     "execution_count": 18,
     "metadata": {},
     "output_type": "execute_result"
    }
   ],
   "source": [
    "df_2019 = pd.read_csv(path+'2019_Green_Taxi_Trip_Data.csv', skiprows=skip_rows(n=6044052, k=3500), names=names, header=None)\n",
    "df_2019.head()"
   ]
  },
  {
   "cell_type": "code",
   "execution_count": 26,
   "id": "6ea341db",
   "metadata": {},
   "outputs": [
    {
     "data": {
      "text/html": [
       "<div>\n",
       "<style scoped>\n",
       "    .dataframe tbody tr th:only-of-type {\n",
       "        vertical-align: middle;\n",
       "    }\n",
       "\n",
       "    .dataframe tbody tr th {\n",
       "        vertical-align: top;\n",
       "    }\n",
       "\n",
       "    .dataframe thead th {\n",
       "        text-align: right;\n",
       "    }\n",
       "</style>\n",
       "<table border=\"1\" class=\"dataframe\">\n",
       "  <thead>\n",
       "    <tr style=\"text-align: right;\">\n",
       "      <th></th>\n",
       "      <th>VendorID</th>\n",
       "      <th>lpep_pickup_datetime</th>\n",
       "      <th>lpep_dropoff_datetime</th>\n",
       "      <th>store_and_fwd_flag</th>\n",
       "      <th>RatecodeID</th>\n",
       "      <th>PULocationID</th>\n",
       "      <th>DOLocationID</th>\n",
       "      <th>passenger_count</th>\n",
       "      <th>trip_distance</th>\n",
       "      <th>fare_amount</th>\n",
       "      <th>extra</th>\n",
       "      <th>mta_tax</th>\n",
       "      <th>tip_amount</th>\n",
       "      <th>tolls_amount</th>\n",
       "      <th>ehail_fee</th>\n",
       "      <th>improvement_surcharge</th>\n",
       "      <th>total_amount</th>\n",
       "      <th>payment_type</th>\n",
       "      <th>trip_type</th>\n",
       "    </tr>\n",
       "  </thead>\n",
       "  <tbody>\n",
       "    <tr>\n",
       "      <th>0</th>\n",
       "      <td>2</td>\n",
       "      <td>01/01/2018 12:19:35 AM</td>\n",
       "      <td>01/01/2018 12:28:50 AM</td>\n",
       "      <td>N</td>\n",
       "      <td>1</td>\n",
       "      <td>247</td>\n",
       "      <td>212</td>\n",
       "      <td>1</td>\n",
       "      <td>3.21</td>\n",
       "      <td>11.5</td>\n",
       "      <td>0.5</td>\n",
       "      <td>0.5</td>\n",
       "      <td>0.00</td>\n",
       "      <td>0.0</td>\n",
       "      <td>NaN</td>\n",
       "      <td>0.3</td>\n",
       "      <td>12.80</td>\n",
       "      <td>2</td>\n",
       "      <td>1</td>\n",
       "    </tr>\n",
       "    <tr>\n",
       "      <th>1</th>\n",
       "      <td>2</td>\n",
       "      <td>01/01/2018 12:04:22 AM</td>\n",
       "      <td>01/01/2018 12:17:58 AM</td>\n",
       "      <td>N</td>\n",
       "      <td>1</td>\n",
       "      <td>89</td>\n",
       "      <td>190</td>\n",
       "      <td>1</td>\n",
       "      <td>2.37</td>\n",
       "      <td>11.5</td>\n",
       "      <td>0.5</td>\n",
       "      <td>0.5</td>\n",
       "      <td>0.00</td>\n",
       "      <td>0.0</td>\n",
       "      <td>NaN</td>\n",
       "      <td>0.3</td>\n",
       "      <td>12.80</td>\n",
       "      <td>1</td>\n",
       "      <td>1</td>\n",
       "    </tr>\n",
       "    <tr>\n",
       "      <th>2</th>\n",
       "      <td>2</td>\n",
       "      <td>01/01/2018 01:40:52 AM</td>\n",
       "      <td>01/01/2018 01:48:39 AM</td>\n",
       "      <td>N</td>\n",
       "      <td>1</td>\n",
       "      <td>25</td>\n",
       "      <td>66</td>\n",
       "      <td>1</td>\n",
       "      <td>1.32</td>\n",
       "      <td>7.0</td>\n",
       "      <td>0.5</td>\n",
       "      <td>0.5</td>\n",
       "      <td>2.08</td>\n",
       "      <td>0.0</td>\n",
       "      <td>NaN</td>\n",
       "      <td>0.3</td>\n",
       "      <td>10.38</td>\n",
       "      <td>1</td>\n",
       "      <td>1</td>\n",
       "    </tr>\n",
       "    <tr>\n",
       "      <th>3</th>\n",
       "      <td>2</td>\n",
       "      <td>01/01/2018 03:12:47 AM</td>\n",
       "      <td>01/01/2018 03:29:38 AM</td>\n",
       "      <td>N</td>\n",
       "      <td>1</td>\n",
       "      <td>75</td>\n",
       "      <td>167</td>\n",
       "      <td>2</td>\n",
       "      <td>3.85</td>\n",
       "      <td>14.5</td>\n",
       "      <td>0.5</td>\n",
       "      <td>0.5</td>\n",
       "      <td>0.00</td>\n",
       "      <td>0.0</td>\n",
       "      <td>NaN</td>\n",
       "      <td>0.3</td>\n",
       "      <td>15.80</td>\n",
       "      <td>2</td>\n",
       "      <td>1</td>\n",
       "    </tr>\n",
       "    <tr>\n",
       "      <th>4</th>\n",
       "      <td>2</td>\n",
       "      <td>01/01/2018 05:53:39 AM</td>\n",
       "      <td>01/01/2018 06:05:29 AM</td>\n",
       "      <td>N</td>\n",
       "      <td>1</td>\n",
       "      <td>82</td>\n",
       "      <td>157</td>\n",
       "      <td>1</td>\n",
       "      <td>2.59</td>\n",
       "      <td>11.0</td>\n",
       "      <td>0.5</td>\n",
       "      <td>0.5</td>\n",
       "      <td>0.00</td>\n",
       "      <td>0.0</td>\n",
       "      <td>NaN</td>\n",
       "      <td>0.3</td>\n",
       "      <td>12.30</td>\n",
       "      <td>2</td>\n",
       "      <td>1</td>\n",
       "    </tr>\n",
       "  </tbody>\n",
       "</table>\n",
       "</div>"
      ],
      "text/plain": [
       "   VendorID    lpep_pickup_datetime   lpep_dropoff_datetime  \\\n",
       "0         2  01/01/2018 12:19:35 AM  01/01/2018 12:28:50 AM   \n",
       "1         2  01/01/2018 12:04:22 AM  01/01/2018 12:17:58 AM   \n",
       "2         2  01/01/2018 01:40:52 AM  01/01/2018 01:48:39 AM   \n",
       "3         2  01/01/2018 03:12:47 AM  01/01/2018 03:29:38 AM   \n",
       "4         2  01/01/2018 05:53:39 AM  01/01/2018 06:05:29 AM   \n",
       "\n",
       "  store_and_fwd_flag  RatecodeID  PULocationID  DOLocationID  passenger_count  \\\n",
       "0                  N           1           247           212                1   \n",
       "1                  N           1            89           190                1   \n",
       "2                  N           1            25            66                1   \n",
       "3                  N           1            75           167                2   \n",
       "4                  N           1            82           157                1   \n",
       "\n",
       "   trip_distance  fare_amount  extra  mta_tax  tip_amount  tolls_amount  \\\n",
       "0           3.21         11.5    0.5      0.5        0.00           0.0   \n",
       "1           2.37         11.5    0.5      0.5        0.00           0.0   \n",
       "2           1.32          7.0    0.5      0.5        2.08           0.0   \n",
       "3           3.85         14.5    0.5      0.5        0.00           0.0   \n",
       "4           2.59         11.0    0.5      0.5        0.00           0.0   \n",
       "\n",
       "   ehail_fee  improvement_surcharge  total_amount  payment_type  trip_type  \n",
       "0        NaN                    0.3         12.80             2          1  \n",
       "1        NaN                    0.3         12.80             1          1  \n",
       "2        NaN                    0.3         10.38             1          1  \n",
       "3        NaN                    0.3         15.80             2          1  \n",
       "4        NaN                    0.3         12.30             2          1  "
      ]
     },
     "execution_count": 26,
     "metadata": {},
     "output_type": "execute_result"
    }
   ],
   "source": [
    "names2=names[:-1]\n",
    "df_2018 = pd.read_csv(path+'2018_Green_Taxi_Trip_Data.csv', skiprows=skip_rows(n=8807305, k=3500), names=names2, header=None)\n",
    "df_2018.head()"
   ]
  },
  {
   "cell_type": "markdown",
   "id": "f1a24530",
   "metadata": {},
   "source": [
    "Now I will concatinate the three random samples from each datasets together, so I will have 10500 rows of trip data in 2018 to 2020. "
   ]
  },
  {
   "cell_type": "code",
   "execution_count": 34,
   "id": "aa990b2e",
   "metadata": {},
   "outputs": [],
   "source": [
    "df_final = pd.concat([df_2018, df_2019, df_2020], axis=0)"
   ]
  },
  {
   "cell_type": "markdown",
   "id": "2e60a931",
   "metadata": {},
   "source": [
    "I am Checking the head of the new data frame. The dataset of 2018 did not have any congestion_surcharge feature, now after concatinating it is added to this set, and all of the data in it is NaN. "
   ]
  },
  {
   "cell_type": "code",
   "execution_count": 35,
   "id": "9d9e0df3",
   "metadata": {},
   "outputs": [
    {
     "data": {
      "text/html": [
       "<div>\n",
       "<style scoped>\n",
       "    .dataframe tbody tr th:only-of-type {\n",
       "        vertical-align: middle;\n",
       "    }\n",
       "\n",
       "    .dataframe tbody tr th {\n",
       "        vertical-align: top;\n",
       "    }\n",
       "\n",
       "    .dataframe thead th {\n",
       "        text-align: right;\n",
       "    }\n",
       "</style>\n",
       "<table border=\"1\" class=\"dataframe\">\n",
       "  <thead>\n",
       "    <tr style=\"text-align: right;\">\n",
       "      <th></th>\n",
       "      <th>VendorID</th>\n",
       "      <th>lpep_pickup_datetime</th>\n",
       "      <th>lpep_dropoff_datetime</th>\n",
       "      <th>store_and_fwd_flag</th>\n",
       "      <th>RatecodeID</th>\n",
       "      <th>PULocationID</th>\n",
       "      <th>DOLocationID</th>\n",
       "      <th>passenger_count</th>\n",
       "      <th>trip_distance</th>\n",
       "      <th>fare_amount</th>\n",
       "      <th>extra</th>\n",
       "      <th>mta_tax</th>\n",
       "      <th>tip_amount</th>\n",
       "      <th>tolls_amount</th>\n",
       "      <th>ehail_fee</th>\n",
       "      <th>improvement_surcharge</th>\n",
       "      <th>total_amount</th>\n",
       "      <th>payment_type</th>\n",
       "      <th>trip_type</th>\n",
       "      <th>congestion_surcharge</th>\n",
       "    </tr>\n",
       "  </thead>\n",
       "  <tbody>\n",
       "    <tr>\n",
       "      <th>0</th>\n",
       "      <td>2.0</td>\n",
       "      <td>01/01/2018 12:19:35 AM</td>\n",
       "      <td>01/01/2018 12:28:50 AM</td>\n",
       "      <td>N</td>\n",
       "      <td>1.0</td>\n",
       "      <td>247</td>\n",
       "      <td>212</td>\n",
       "      <td>1.0</td>\n",
       "      <td>3.21</td>\n",
       "      <td>11.5</td>\n",
       "      <td>0.5</td>\n",
       "      <td>0.5</td>\n",
       "      <td>0.00</td>\n",
       "      <td>0.0</td>\n",
       "      <td>NaN</td>\n",
       "      <td>0.3</td>\n",
       "      <td>12.80</td>\n",
       "      <td>2.0</td>\n",
       "      <td>1.0</td>\n",
       "      <td>NaN</td>\n",
       "    </tr>\n",
       "    <tr>\n",
       "      <th>1</th>\n",
       "      <td>2.0</td>\n",
       "      <td>01/01/2018 12:04:22 AM</td>\n",
       "      <td>01/01/2018 12:17:58 AM</td>\n",
       "      <td>N</td>\n",
       "      <td>1.0</td>\n",
       "      <td>89</td>\n",
       "      <td>190</td>\n",
       "      <td>1.0</td>\n",
       "      <td>2.37</td>\n",
       "      <td>11.5</td>\n",
       "      <td>0.5</td>\n",
       "      <td>0.5</td>\n",
       "      <td>0.00</td>\n",
       "      <td>0.0</td>\n",
       "      <td>NaN</td>\n",
       "      <td>0.3</td>\n",
       "      <td>12.80</td>\n",
       "      <td>1.0</td>\n",
       "      <td>1.0</td>\n",
       "      <td>NaN</td>\n",
       "    </tr>\n",
       "    <tr>\n",
       "      <th>2</th>\n",
       "      <td>2.0</td>\n",
       "      <td>01/01/2018 01:40:52 AM</td>\n",
       "      <td>01/01/2018 01:48:39 AM</td>\n",
       "      <td>N</td>\n",
       "      <td>1.0</td>\n",
       "      <td>25</td>\n",
       "      <td>66</td>\n",
       "      <td>1.0</td>\n",
       "      <td>1.32</td>\n",
       "      <td>7.0</td>\n",
       "      <td>0.5</td>\n",
       "      <td>0.5</td>\n",
       "      <td>2.08</td>\n",
       "      <td>0.0</td>\n",
       "      <td>NaN</td>\n",
       "      <td>0.3</td>\n",
       "      <td>10.38</td>\n",
       "      <td>1.0</td>\n",
       "      <td>1.0</td>\n",
       "      <td>NaN</td>\n",
       "    </tr>\n",
       "    <tr>\n",
       "      <th>3</th>\n",
       "      <td>2.0</td>\n",
       "      <td>01/01/2018 03:12:47 AM</td>\n",
       "      <td>01/01/2018 03:29:38 AM</td>\n",
       "      <td>N</td>\n",
       "      <td>1.0</td>\n",
       "      <td>75</td>\n",
       "      <td>167</td>\n",
       "      <td>2.0</td>\n",
       "      <td>3.85</td>\n",
       "      <td>14.5</td>\n",
       "      <td>0.5</td>\n",
       "      <td>0.5</td>\n",
       "      <td>0.00</td>\n",
       "      <td>0.0</td>\n",
       "      <td>NaN</td>\n",
       "      <td>0.3</td>\n",
       "      <td>15.80</td>\n",
       "      <td>2.0</td>\n",
       "      <td>1.0</td>\n",
       "      <td>NaN</td>\n",
       "    </tr>\n",
       "    <tr>\n",
       "      <th>4</th>\n",
       "      <td>2.0</td>\n",
       "      <td>01/01/2018 05:53:39 AM</td>\n",
       "      <td>01/01/2018 06:05:29 AM</td>\n",
       "      <td>N</td>\n",
       "      <td>1.0</td>\n",
       "      <td>82</td>\n",
       "      <td>157</td>\n",
       "      <td>1.0</td>\n",
       "      <td>2.59</td>\n",
       "      <td>11.0</td>\n",
       "      <td>0.5</td>\n",
       "      <td>0.5</td>\n",
       "      <td>0.00</td>\n",
       "      <td>0.0</td>\n",
       "      <td>NaN</td>\n",
       "      <td>0.3</td>\n",
       "      <td>12.30</td>\n",
       "      <td>2.0</td>\n",
       "      <td>1.0</td>\n",
       "      <td>NaN</td>\n",
       "    </tr>\n",
       "  </tbody>\n",
       "</table>\n",
       "</div>"
      ],
      "text/plain": [
       "   VendorID    lpep_pickup_datetime   lpep_dropoff_datetime  \\\n",
       "0       2.0  01/01/2018 12:19:35 AM  01/01/2018 12:28:50 AM   \n",
       "1       2.0  01/01/2018 12:04:22 AM  01/01/2018 12:17:58 AM   \n",
       "2       2.0  01/01/2018 01:40:52 AM  01/01/2018 01:48:39 AM   \n",
       "3       2.0  01/01/2018 03:12:47 AM  01/01/2018 03:29:38 AM   \n",
       "4       2.0  01/01/2018 05:53:39 AM  01/01/2018 06:05:29 AM   \n",
       "\n",
       "  store_and_fwd_flag  RatecodeID  PULocationID  DOLocationID  passenger_count  \\\n",
       "0                  N         1.0           247           212              1.0   \n",
       "1                  N         1.0            89           190              1.0   \n",
       "2                  N         1.0            25            66              1.0   \n",
       "3                  N         1.0            75           167              2.0   \n",
       "4                  N         1.0            82           157              1.0   \n",
       "\n",
       "   trip_distance  fare_amount  extra  mta_tax  tip_amount  tolls_amount  \\\n",
       "0           3.21         11.5    0.5      0.5        0.00           0.0   \n",
       "1           2.37         11.5    0.5      0.5        0.00           0.0   \n",
       "2           1.32          7.0    0.5      0.5        2.08           0.0   \n",
       "3           3.85         14.5    0.5      0.5        0.00           0.0   \n",
       "4           2.59         11.0    0.5      0.5        0.00           0.0   \n",
       "\n",
       "   ehail_fee  improvement_surcharge  total_amount  payment_type  trip_type  \\\n",
       "0        NaN                    0.3         12.80           2.0        1.0   \n",
       "1        NaN                    0.3         12.80           1.0        1.0   \n",
       "2        NaN                    0.3         10.38           1.0        1.0   \n",
       "3        NaN                    0.3         15.80           2.0        1.0   \n",
       "4        NaN                    0.3         12.30           2.0        1.0   \n",
       "\n",
       "   congestion_surcharge  \n",
       "0                   NaN  \n",
       "1                   NaN  \n",
       "2                   NaN  \n",
       "3                   NaN  \n",
       "4                   NaN  "
      ]
     },
     "execution_count": 35,
     "metadata": {},
     "output_type": "execute_result"
    }
   ],
   "source": [
    "df_final.head()"
   ]
  },
  {
   "cell_type": "code",
   "execution_count": 36,
   "id": "82c53c5b",
   "metadata": {},
   "outputs": [
    {
     "data": {
      "text/html": [
       "<div>\n",
       "<style scoped>\n",
       "    .dataframe tbody tr th:only-of-type {\n",
       "        vertical-align: middle;\n",
       "    }\n",
       "\n",
       "    .dataframe tbody tr th {\n",
       "        vertical-align: top;\n",
       "    }\n",
       "\n",
       "    .dataframe thead th {\n",
       "        text-align: right;\n",
       "    }\n",
       "</style>\n",
       "<table border=\"1\" class=\"dataframe\">\n",
       "  <thead>\n",
       "    <tr style=\"text-align: right;\">\n",
       "      <th></th>\n",
       "      <th>VendorID</th>\n",
       "      <th>lpep_pickup_datetime</th>\n",
       "      <th>lpep_dropoff_datetime</th>\n",
       "      <th>store_and_fwd_flag</th>\n",
       "      <th>RatecodeID</th>\n",
       "      <th>PULocationID</th>\n",
       "      <th>DOLocationID</th>\n",
       "      <th>passenger_count</th>\n",
       "      <th>trip_distance</th>\n",
       "      <th>fare_amount</th>\n",
       "      <th>extra</th>\n",
       "      <th>mta_tax</th>\n",
       "      <th>tip_amount</th>\n",
       "      <th>tolls_amount</th>\n",
       "      <th>ehail_fee</th>\n",
       "      <th>improvement_surcharge</th>\n",
       "      <th>total_amount</th>\n",
       "      <th>payment_type</th>\n",
       "      <th>trip_type</th>\n",
       "      <th>congestion_surcharge</th>\n",
       "    </tr>\n",
       "  </thead>\n",
       "  <tbody>\n",
       "    <tr>\n",
       "      <th>3495</th>\n",
       "      <td>NaN</td>\n",
       "      <td>12/29/2020 02:50:00 PM</td>\n",
       "      <td>12/29/2020 03:29:00 PM</td>\n",
       "      <td>NaN</td>\n",
       "      <td>NaN</td>\n",
       "      <td>75</td>\n",
       "      <td>136</td>\n",
       "      <td>NaN</td>\n",
       "      <td>8.32</td>\n",
       "      <td>35.79</td>\n",
       "      <td>0.0</td>\n",
       "      <td>0.0</td>\n",
       "      <td>2.75</td>\n",
       "      <td>0.00</td>\n",
       "      <td>NaN</td>\n",
       "      <td>0.3</td>\n",
       "      <td>38.84</td>\n",
       "      <td>NaN</td>\n",
       "      <td>NaN</td>\n",
       "      <td>NaN</td>\n",
       "    </tr>\n",
       "    <tr>\n",
       "      <th>3496</th>\n",
       "      <td>NaN</td>\n",
       "      <td>12/29/2020 07:15:00 PM</td>\n",
       "      <td>12/29/2020 07:23:00 PM</td>\n",
       "      <td>NaN</td>\n",
       "      <td>NaN</td>\n",
       "      <td>181</td>\n",
       "      <td>133</td>\n",
       "      <td>NaN</td>\n",
       "      <td>1.97</td>\n",
       "      <td>15.45</td>\n",
       "      <td>0.0</td>\n",
       "      <td>0.0</td>\n",
       "      <td>2.75</td>\n",
       "      <td>0.00</td>\n",
       "      <td>NaN</td>\n",
       "      <td>0.3</td>\n",
       "      <td>18.50</td>\n",
       "      <td>NaN</td>\n",
       "      <td>NaN</td>\n",
       "      <td>NaN</td>\n",
       "    </tr>\n",
       "    <tr>\n",
       "      <th>3497</th>\n",
       "      <td>NaN</td>\n",
       "      <td>12/30/2020 12:26:00 PM</td>\n",
       "      <td>12/30/2020 12:57:00 PM</td>\n",
       "      <td>NaN</td>\n",
       "      <td>NaN</td>\n",
       "      <td>32</td>\n",
       "      <td>193</td>\n",
       "      <td>NaN</td>\n",
       "      <td>10.47</td>\n",
       "      <td>36.07</td>\n",
       "      <td>0.0</td>\n",
       "      <td>0.0</td>\n",
       "      <td>2.75</td>\n",
       "      <td>6.12</td>\n",
       "      <td>NaN</td>\n",
       "      <td>0.3</td>\n",
       "      <td>45.24</td>\n",
       "      <td>NaN</td>\n",
       "      <td>NaN</td>\n",
       "      <td>NaN</td>\n",
       "    </tr>\n",
       "    <tr>\n",
       "      <th>3498</th>\n",
       "      <td>NaN</td>\n",
       "      <td>12/31/2020 08:45:00 AM</td>\n",
       "      <td>12/31/2020 09:32:00 AM</td>\n",
       "      <td>NaN</td>\n",
       "      <td>NaN</td>\n",
       "      <td>76</td>\n",
       "      <td>107</td>\n",
       "      <td>NaN</td>\n",
       "      <td>15.36</td>\n",
       "      <td>30.03</td>\n",
       "      <td>0.0</td>\n",
       "      <td>0.0</td>\n",
       "      <td>2.75</td>\n",
       "      <td>6.12</td>\n",
       "      <td>NaN</td>\n",
       "      <td>0.3</td>\n",
       "      <td>39.20</td>\n",
       "      <td>NaN</td>\n",
       "      <td>NaN</td>\n",
       "      <td>NaN</td>\n",
       "    </tr>\n",
       "    <tr>\n",
       "      <th>3499</th>\n",
       "      <td>NaN</td>\n",
       "      <td>12/31/2020 04:43:00 PM</td>\n",
       "      <td>12/31/2020 05:14:00 PM</td>\n",
       "      <td>NaN</td>\n",
       "      <td>NaN</td>\n",
       "      <td>75</td>\n",
       "      <td>36</td>\n",
       "      <td>NaN</td>\n",
       "      <td>11.61</td>\n",
       "      <td>24.15</td>\n",
       "      <td>0.0</td>\n",
       "      <td>0.0</td>\n",
       "      <td>2.75</td>\n",
       "      <td>6.12</td>\n",
       "      <td>NaN</td>\n",
       "      <td>0.3</td>\n",
       "      <td>33.32</td>\n",
       "      <td>NaN</td>\n",
       "      <td>NaN</td>\n",
       "      <td>NaN</td>\n",
       "    </tr>\n",
       "  </tbody>\n",
       "</table>\n",
       "</div>"
      ],
      "text/plain": [
       "      VendorID    lpep_pickup_datetime   lpep_dropoff_datetime  \\\n",
       "3495       NaN  12/29/2020 02:50:00 PM  12/29/2020 03:29:00 PM   \n",
       "3496       NaN  12/29/2020 07:15:00 PM  12/29/2020 07:23:00 PM   \n",
       "3497       NaN  12/30/2020 12:26:00 PM  12/30/2020 12:57:00 PM   \n",
       "3498       NaN  12/31/2020 08:45:00 AM  12/31/2020 09:32:00 AM   \n",
       "3499       NaN  12/31/2020 04:43:00 PM  12/31/2020 05:14:00 PM   \n",
       "\n",
       "     store_and_fwd_flag  RatecodeID  PULocationID  DOLocationID  \\\n",
       "3495                NaN         NaN            75           136   \n",
       "3496                NaN         NaN           181           133   \n",
       "3497                NaN         NaN            32           193   \n",
       "3498                NaN         NaN            76           107   \n",
       "3499                NaN         NaN            75            36   \n",
       "\n",
       "      passenger_count  trip_distance  fare_amount  extra  mta_tax  tip_amount  \\\n",
       "3495              NaN           8.32        35.79    0.0      0.0        2.75   \n",
       "3496              NaN           1.97        15.45    0.0      0.0        2.75   \n",
       "3497              NaN          10.47        36.07    0.0      0.0        2.75   \n",
       "3498              NaN          15.36        30.03    0.0      0.0        2.75   \n",
       "3499              NaN          11.61        24.15    0.0      0.0        2.75   \n",
       "\n",
       "      tolls_amount  ehail_fee  improvement_surcharge  total_amount  \\\n",
       "3495          0.00        NaN                    0.3         38.84   \n",
       "3496          0.00        NaN                    0.3         18.50   \n",
       "3497          6.12        NaN                    0.3         45.24   \n",
       "3498          6.12        NaN                    0.3         39.20   \n",
       "3499          6.12        NaN                    0.3         33.32   \n",
       "\n",
       "      payment_type  trip_type  congestion_surcharge  \n",
       "3495           NaN        NaN                   NaN  \n",
       "3496           NaN        NaN                   NaN  \n",
       "3497           NaN        NaN                   NaN  \n",
       "3498           NaN        NaN                   NaN  \n",
       "3499           NaN        NaN                   NaN  "
      ]
     },
     "execution_count": 36,
     "metadata": {},
     "output_type": "execute_result"
    }
   ],
   "source": [
    "df_final.tail()"
   ]
  },
  {
   "cell_type": "markdown",
   "id": "8a160c5e",
   "metadata": {},
   "source": [
    "Just for checking the shape of the final dataset, I will check it now:"
   ]
  },
  {
   "cell_type": "code",
   "execution_count": 37,
   "id": "84bab841",
   "metadata": {},
   "outputs": [
    {
     "data": {
      "text/plain": [
       "(10500, 20)"
      ]
     },
     "execution_count": 37,
     "metadata": {},
     "output_type": "execute_result"
    }
   ],
   "source": [
    "df_final.shape"
   ]
  },
  {
   "cell_type": "markdown",
   "id": "110187e1",
   "metadata": {},
   "source": [
    "Tet's see what is the information of this dataset."
   ]
  },
  {
   "cell_type": "code",
   "execution_count": 38,
   "id": "f8f24129",
   "metadata": {},
   "outputs": [
    {
     "name": "stdout",
     "output_type": "stream",
     "text": [
      "<class 'pandas.core.frame.DataFrame'>\n",
      "Int64Index: 10500 entries, 0 to 3499\n",
      "Data columns (total 20 columns):\n",
      " #   Column                 Non-Null Count  Dtype  \n",
      "---  ------                 --------------  -----  \n",
      " 0   VendorID               9236 non-null   float64\n",
      " 1   lpep_pickup_datetime   10500 non-null  object \n",
      " 2   lpep_dropoff_datetime  10500 non-null  object \n",
      " 3   store_and_fwd_flag     9236 non-null   object \n",
      " 4   RatecodeID             9236 non-null   float64\n",
      " 5   PULocationID           10500 non-null  int64  \n",
      " 6   DOLocationID           10500 non-null  int64  \n",
      " 7   passenger_count        9236 non-null   float64\n",
      " 8   trip_distance          10500 non-null  float64\n",
      " 9   fare_amount            10500 non-null  float64\n",
      " 10  extra                  10500 non-null  float64\n",
      " 11  mta_tax                10500 non-null  float64\n",
      " 12  tip_amount             10500 non-null  float64\n",
      " 13  tolls_amount           10500 non-null  float64\n",
      " 14  ehail_fee              0 non-null      float64\n",
      " 15  improvement_surcharge  10500 non-null  float64\n",
      " 16  total_amount           10500 non-null  float64\n",
      " 17  payment_type           9236 non-null   float64\n",
      " 18  trip_type              9236 non-null   float64\n",
      " 19  congestion_surcharge   5454 non-null   float64\n",
      "dtypes: float64(15), int64(2), object(3)\n",
      "memory usage: 1.7+ MB\n"
     ]
    }
   ],
   "source": [
    "df_final.info()"
   ]
  },
  {
   "cell_type": "markdown",
   "id": "171e871a",
   "metadata": {},
   "source": [
    "Ok. There are amazing information here. Now Let's see directly how many NaN value we have in this dataset after concatinating "
   ]
  },
  {
   "cell_type": "code",
   "execution_count": 39,
   "id": "4d49be7e",
   "metadata": {},
   "outputs": [
    {
     "data": {
      "text/plain": [
       "VendorID                  1264\n",
       "lpep_pickup_datetime         0\n",
       "lpep_dropoff_datetime        0\n",
       "store_and_fwd_flag        1264\n",
       "RatecodeID                1264\n",
       "PULocationID                 0\n",
       "DOLocationID                 0\n",
       "passenger_count           1264\n",
       "trip_distance                0\n",
       "fare_amount                  0\n",
       "extra                        0\n",
       "mta_tax                      0\n",
       "tip_amount                   0\n",
       "tolls_amount                 0\n",
       "ehail_fee                10500\n",
       "improvement_surcharge        0\n",
       "total_amount                 0\n",
       "payment_type              1264\n",
       "trip_type                 1264\n",
       "congestion_surcharge      5046\n",
       "dtype: int64"
      ]
     },
     "execution_count": 39,
     "metadata": {},
     "output_type": "execute_result"
    }
   ],
   "source": [
    "df_final.isnull().sum()"
   ]
  },
  {
   "cell_type": "markdown",
   "id": "06a50142",
   "metadata": {},
   "source": [
    "'ehail_fee' Column is totally Null. There is not a single value in this column. So I will drop it."
   ]
  },
  {
   "cell_type": "code",
   "execution_count": 41,
   "id": "e952d335",
   "metadata": {},
   "outputs": [],
   "source": [
    "df_final.drop('ehail_fee', axis=1, inplace=True)"
   ]
  },
  {
   "cell_type": "code",
   "execution_count": 43,
   "id": "ccd76c4b",
   "metadata": {},
   "outputs": [
    {
     "data": {
      "text/plain": [
       "VendorID                 1264\n",
       "lpep_pickup_datetime        0\n",
       "lpep_dropoff_datetime       0\n",
       "store_and_fwd_flag       1264\n",
       "RatecodeID               1264\n",
       "PULocationID                0\n",
       "DOLocationID                0\n",
       "passenger_count          1264\n",
       "trip_distance               0\n",
       "fare_amount                 0\n",
       "extra                       0\n",
       "mta_tax                     0\n",
       "tip_amount                  0\n",
       "tolls_amount                0\n",
       "improvement_surcharge       0\n",
       "total_amount                0\n",
       "payment_type             1264\n",
       "trip_type                1264\n",
       "congestion_surcharge     5046\n",
       "dtype: int64"
      ]
     },
     "execution_count": 43,
     "metadata": {},
     "output_type": "execute_result"
    }
   ],
   "source": [
    "df_final.isnull().sum()"
   ]
  },
  {
   "cell_type": "markdown",
   "id": "e3457d7d",
   "metadata": {},
   "source": [
    "There are multiple variables with 1264 NaN values. I would like to check these rows all alone. "
   ]
  },
  {
   "cell_type": "code",
   "execution_count": 44,
   "id": "eecb8c4d",
   "metadata": {},
   "outputs": [
    {
     "data": {
      "text/html": [
       "<div>\n",
       "<style scoped>\n",
       "    .dataframe tbody tr th:only-of-type {\n",
       "        vertical-align: middle;\n",
       "    }\n",
       "\n",
       "    .dataframe tbody tr th {\n",
       "        vertical-align: top;\n",
       "    }\n",
       "\n",
       "    .dataframe thead th {\n",
       "        text-align: right;\n",
       "    }\n",
       "</style>\n",
       "<table border=\"1\" class=\"dataframe\">\n",
       "  <thead>\n",
       "    <tr style=\"text-align: right;\">\n",
       "      <th></th>\n",
       "      <th>VendorID</th>\n",
       "      <th>lpep_pickup_datetime</th>\n",
       "      <th>lpep_dropoff_datetime</th>\n",
       "      <th>store_and_fwd_flag</th>\n",
       "      <th>RatecodeID</th>\n",
       "      <th>PULocationID</th>\n",
       "      <th>DOLocationID</th>\n",
       "      <th>passenger_count</th>\n",
       "      <th>trip_distance</th>\n",
       "      <th>fare_amount</th>\n",
       "      <th>extra</th>\n",
       "      <th>mta_tax</th>\n",
       "      <th>tip_amount</th>\n",
       "      <th>tolls_amount</th>\n",
       "      <th>improvement_surcharge</th>\n",
       "      <th>total_amount</th>\n",
       "      <th>payment_type</th>\n",
       "      <th>trip_type</th>\n",
       "      <th>congestion_surcharge</th>\n",
       "    </tr>\n",
       "  </thead>\n",
       "  <tbody>\n",
       "    <tr>\n",
       "      <th>618</th>\n",
       "      <td>NaN</td>\n",
       "      <td>07/02/2019 02:52:00 PM</td>\n",
       "      <td>07/02/2019 03:11:00 PM</td>\n",
       "      <td>NaN</td>\n",
       "      <td>NaN</td>\n",
       "      <td>19</td>\n",
       "      <td>134</td>\n",
       "      <td>NaN</td>\n",
       "      <td>7.52</td>\n",
       "      <td>32.61</td>\n",
       "      <td>2.75</td>\n",
       "      <td>0.5</td>\n",
       "      <td>0.0</td>\n",
       "      <td>0.00</td>\n",
       "      <td>0.0</td>\n",
       "      <td>35.86</td>\n",
       "      <td>NaN</td>\n",
       "      <td>NaN</td>\n",
       "      <td>NaN</td>\n",
       "    </tr>\n",
       "    <tr>\n",
       "      <th>2119</th>\n",
       "      <td>NaN</td>\n",
       "      <td>07/03/2019 08:30:00 AM</td>\n",
       "      <td>07/03/2019 09:20:00 AM</td>\n",
       "      <td>NaN</td>\n",
       "      <td>NaN</td>\n",
       "      <td>71</td>\n",
       "      <td>48</td>\n",
       "      <td>NaN</td>\n",
       "      <td>11.80</td>\n",
       "      <td>29.49</td>\n",
       "      <td>2.75</td>\n",
       "      <td>0.5</td>\n",
       "      <td>0.0</td>\n",
       "      <td>6.12</td>\n",
       "      <td>0.0</td>\n",
       "      <td>38.86</td>\n",
       "      <td>NaN</td>\n",
       "      <td>NaN</td>\n",
       "      <td>NaN</td>\n",
       "    </tr>\n",
       "    <tr>\n",
       "      <th>2120</th>\n",
       "      <td>NaN</td>\n",
       "      <td>07/03/2019 08:59:00 AM</td>\n",
       "      <td>07/03/2019 09:57:00 AM</td>\n",
       "      <td>NaN</td>\n",
       "      <td>NaN</td>\n",
       "      <td>149</td>\n",
       "      <td>231</td>\n",
       "      <td>NaN</td>\n",
       "      <td>0.50</td>\n",
       "      <td>62.15</td>\n",
       "      <td>2.75</td>\n",
       "      <td>0.5</td>\n",
       "      <td>0.0</td>\n",
       "      <td>0.00</td>\n",
       "      <td>0.0</td>\n",
       "      <td>65.40</td>\n",
       "      <td>NaN</td>\n",
       "      <td>NaN</td>\n",
       "      <td>NaN</td>\n",
       "    </tr>\n",
       "    <tr>\n",
       "      <th>2121</th>\n",
       "      <td>NaN</td>\n",
       "      <td>07/05/2019 08:57:00 AM</td>\n",
       "      <td>07/05/2019 09:40:00 AM</td>\n",
       "      <td>NaN</td>\n",
       "      <td>NaN</td>\n",
       "      <td>35</td>\n",
       "      <td>74</td>\n",
       "      <td>NaN</td>\n",
       "      <td>18.42</td>\n",
       "      <td>30.39</td>\n",
       "      <td>2.75</td>\n",
       "      <td>0.5</td>\n",
       "      <td>0.0</td>\n",
       "      <td>6.12</td>\n",
       "      <td>0.0</td>\n",
       "      <td>39.76</td>\n",
       "      <td>NaN</td>\n",
       "      <td>NaN</td>\n",
       "      <td>NaN</td>\n",
       "    </tr>\n",
       "    <tr>\n",
       "      <th>2122</th>\n",
       "      <td>NaN</td>\n",
       "      <td>07/05/2019 10:20:00 PM</td>\n",
       "      <td>07/05/2019 10:58:00 PM</td>\n",
       "      <td>NaN</td>\n",
       "      <td>NaN</td>\n",
       "      <td>130</td>\n",
       "      <td>94</td>\n",
       "      <td>NaN</td>\n",
       "      <td>16.75</td>\n",
       "      <td>39.15</td>\n",
       "      <td>2.75</td>\n",
       "      <td>0.5</td>\n",
       "      <td>0.0</td>\n",
       "      <td>12.24</td>\n",
       "      <td>0.0</td>\n",
       "      <td>54.64</td>\n",
       "      <td>NaN</td>\n",
       "      <td>NaN</td>\n",
       "      <td>NaN</td>\n",
       "    </tr>\n",
       "  </tbody>\n",
       "</table>\n",
       "</div>"
      ],
      "text/plain": [
       "      VendorID    lpep_pickup_datetime   lpep_dropoff_datetime  \\\n",
       "618        NaN  07/02/2019 02:52:00 PM  07/02/2019 03:11:00 PM   \n",
       "2119       NaN  07/03/2019 08:30:00 AM  07/03/2019 09:20:00 AM   \n",
       "2120       NaN  07/03/2019 08:59:00 AM  07/03/2019 09:57:00 AM   \n",
       "2121       NaN  07/05/2019 08:57:00 AM  07/05/2019 09:40:00 AM   \n",
       "2122       NaN  07/05/2019 10:20:00 PM  07/05/2019 10:58:00 PM   \n",
       "\n",
       "     store_and_fwd_flag  RatecodeID  PULocationID  DOLocationID  \\\n",
       "618                 NaN         NaN            19           134   \n",
       "2119                NaN         NaN            71            48   \n",
       "2120                NaN         NaN           149           231   \n",
       "2121                NaN         NaN            35            74   \n",
       "2122                NaN         NaN           130            94   \n",
       "\n",
       "      passenger_count  trip_distance  fare_amount  extra  mta_tax  tip_amount  \\\n",
       "618               NaN           7.52        32.61   2.75      0.5         0.0   \n",
       "2119              NaN          11.80        29.49   2.75      0.5         0.0   \n",
       "2120              NaN           0.50        62.15   2.75      0.5         0.0   \n",
       "2121              NaN          18.42        30.39   2.75      0.5         0.0   \n",
       "2122              NaN          16.75        39.15   2.75      0.5         0.0   \n",
       "\n",
       "      tolls_amount  improvement_surcharge  total_amount  payment_type  \\\n",
       "618           0.00                    0.0         35.86           NaN   \n",
       "2119          6.12                    0.0         38.86           NaN   \n",
       "2120          0.00                    0.0         65.40           NaN   \n",
       "2121          6.12                    0.0         39.76           NaN   \n",
       "2122         12.24                    0.0         54.64           NaN   \n",
       "\n",
       "      trip_type  congestion_surcharge  \n",
       "618         NaN                   NaN  \n",
       "2119        NaN                   NaN  \n",
       "2120        NaN                   NaN  \n",
       "2121        NaN                   NaN  \n",
       "2122        NaN                   NaN  "
      ]
     },
     "execution_count": 44,
     "metadata": {},
     "output_type": "execute_result"
    }
   ],
   "source": [
    "df_final[df_final.VendorID.isnull()].head()"
   ]
  },
  {
   "cell_type": "markdown",
   "id": "75b4c23d",
   "metadata": {},
   "source": [
    "It was clear these features were Null together. But checking was required. Now I will drop these rows and then Let's check the Null status of the dataset. "
   ]
  },
  {
   "cell_type": "code",
   "execution_count": 46,
   "id": "8744f0d1",
   "metadata": {},
   "outputs": [],
   "source": [
    "df_final = df_final[~df_final.VendorID.isnull()].copy()"
   ]
  },
  {
   "cell_type": "code",
   "execution_count": 47,
   "id": "46ced522",
   "metadata": {},
   "outputs": [
    {
     "data": {
      "text/plain": [
       "VendorID                    0\n",
       "lpep_pickup_datetime        0\n",
       "lpep_dropoff_datetime       0\n",
       "store_and_fwd_flag          0\n",
       "RatecodeID                  0\n",
       "PULocationID                0\n",
       "DOLocationID                0\n",
       "passenger_count             0\n",
       "trip_distance               0\n",
       "fare_amount                 0\n",
       "extra                       0\n",
       "mta_tax                     0\n",
       "tip_amount                  0\n",
       "tolls_amount                0\n",
       "improvement_surcharge       0\n",
       "total_amount                0\n",
       "payment_type                0\n",
       "trip_type                   0\n",
       "congestion_surcharge     3782\n",
       "dtype: int64"
      ]
     },
     "execution_count": 47,
     "metadata": {},
     "output_type": "execute_result"
    }
   ],
   "source": [
    "df_final.isnull().sum()"
   ]
  },
  {
   "cell_type": "markdown",
   "id": "0c2b4415",
   "metadata": {},
   "source": [
    "Now the only column with Null value is congestion_surcharge. Let's check it and see what is happening in it. "
   ]
  },
  {
   "cell_type": "code",
   "execution_count": 52,
   "id": "3d51ccaa",
   "metadata": {},
   "outputs": [
    {
     "data": {
      "text/html": [
       "<div>\n",
       "<style scoped>\n",
       "    .dataframe tbody tr th:only-of-type {\n",
       "        vertical-align: middle;\n",
       "    }\n",
       "\n",
       "    .dataframe tbody tr th {\n",
       "        vertical-align: top;\n",
       "    }\n",
       "\n",
       "    .dataframe thead th {\n",
       "        text-align: right;\n",
       "    }\n",
       "</style>\n",
       "<table border=\"1\" class=\"dataframe\">\n",
       "  <thead>\n",
       "    <tr style=\"text-align: right;\">\n",
       "      <th></th>\n",
       "      <th>VendorID</th>\n",
       "      <th>lpep_pickup_datetime</th>\n",
       "      <th>lpep_dropoff_datetime</th>\n",
       "      <th>store_and_fwd_flag</th>\n",
       "      <th>RatecodeID</th>\n",
       "      <th>PULocationID</th>\n",
       "      <th>DOLocationID</th>\n",
       "      <th>passenger_count</th>\n",
       "      <th>trip_distance</th>\n",
       "      <th>fare_amount</th>\n",
       "      <th>extra</th>\n",
       "      <th>mta_tax</th>\n",
       "      <th>tip_amount</th>\n",
       "      <th>tolls_amount</th>\n",
       "      <th>improvement_surcharge</th>\n",
       "      <th>total_amount</th>\n",
       "      <th>payment_type</th>\n",
       "      <th>trip_type</th>\n",
       "      <th>congestion_surcharge</th>\n",
       "    </tr>\n",
       "  </thead>\n",
       "  <tbody>\n",
       "    <tr>\n",
       "      <th>0</th>\n",
       "      <td>2.0</td>\n",
       "      <td>02/01/2019 05:42:14 AM</td>\n",
       "      <td>02/01/2019 05:59:30 AM</td>\n",
       "      <td>N</td>\n",
       "      <td>5.0</td>\n",
       "      <td>22</td>\n",
       "      <td>40</td>\n",
       "      <td>1.0</td>\n",
       "      <td>8.83</td>\n",
       "      <td>24.44</td>\n",
       "      <td>0.0</td>\n",
       "      <td>0.5</td>\n",
       "      <td>0.0</td>\n",
       "      <td>0.0</td>\n",
       "      <td>0.0</td>\n",
       "      <td>24.94</td>\n",
       "      <td>1.0</td>\n",
       "      <td>2.0</td>\n",
       "      <td>0.0</td>\n",
       "    </tr>\n",
       "    <tr>\n",
       "      <th>1</th>\n",
       "      <td>2.0</td>\n",
       "      <td>02/01/2019 12:58:08 PM</td>\n",
       "      <td>02/01/2019 01:12:18 PM</td>\n",
       "      <td>N</td>\n",
       "      <td>1.0</td>\n",
       "      <td>75</td>\n",
       "      <td>236</td>\n",
       "      <td>1.0</td>\n",
       "      <td>1.89</td>\n",
       "      <td>10.50</td>\n",
       "      <td>0.0</td>\n",
       "      <td>0.5</td>\n",
       "      <td>0.0</td>\n",
       "      <td>0.0</td>\n",
       "      <td>0.3</td>\n",
       "      <td>11.30</td>\n",
       "      <td>1.0</td>\n",
       "      <td>1.0</td>\n",
       "      <td>0.0</td>\n",
       "    </tr>\n",
       "    <tr>\n",
       "      <th>2</th>\n",
       "      <td>2.0</td>\n",
       "      <td>02/01/2019 01:48:16 PM</td>\n",
       "      <td>02/01/2019 01:54:23 PM</td>\n",
       "      <td>N</td>\n",
       "      <td>1.0</td>\n",
       "      <td>7</td>\n",
       "      <td>146</td>\n",
       "      <td>1.0</td>\n",
       "      <td>0.86</td>\n",
       "      <td>6.00</td>\n",
       "      <td>0.0</td>\n",
       "      <td>0.5</td>\n",
       "      <td>0.0</td>\n",
       "      <td>0.0</td>\n",
       "      <td>0.3</td>\n",
       "      <td>6.80</td>\n",
       "      <td>2.0</td>\n",
       "      <td>1.0</td>\n",
       "      <td>0.0</td>\n",
       "    </tr>\n",
       "    <tr>\n",
       "      <th>3</th>\n",
       "      <td>1.0</td>\n",
       "      <td>02/01/2019 01:43:17 PM</td>\n",
       "      <td>02/01/2019 01:50:07 PM</td>\n",
       "      <td>N</td>\n",
       "      <td>1.0</td>\n",
       "      <td>210</td>\n",
       "      <td>150</td>\n",
       "      <td>1.0</td>\n",
       "      <td>1.30</td>\n",
       "      <td>7.00</td>\n",
       "      <td>0.0</td>\n",
       "      <td>0.5</td>\n",
       "      <td>2.3</td>\n",
       "      <td>0.0</td>\n",
       "      <td>0.3</td>\n",
       "      <td>10.10</td>\n",
       "      <td>1.0</td>\n",
       "      <td>1.0</td>\n",
       "      <td>0.0</td>\n",
       "    </tr>\n",
       "    <tr>\n",
       "      <th>4</th>\n",
       "      <td>2.0</td>\n",
       "      <td>02/01/2019 01:44:45 PM</td>\n",
       "      <td>02/01/2019 01:45:18 PM</td>\n",
       "      <td>N</td>\n",
       "      <td>1.0</td>\n",
       "      <td>92</td>\n",
       "      <td>92</td>\n",
       "      <td>1.0</td>\n",
       "      <td>0.03</td>\n",
       "      <td>-2.50</td>\n",
       "      <td>0.0</td>\n",
       "      <td>-0.5</td>\n",
       "      <td>0.0</td>\n",
       "      <td>0.0</td>\n",
       "      <td>-0.3</td>\n",
       "      <td>-3.30</td>\n",
       "      <td>4.0</td>\n",
       "      <td>1.0</td>\n",
       "      <td>0.0</td>\n",
       "    </tr>\n",
       "  </tbody>\n",
       "</table>\n",
       "</div>"
      ],
      "text/plain": [
       "   VendorID    lpep_pickup_datetime   lpep_dropoff_datetime  \\\n",
       "0       2.0  02/01/2019 05:42:14 AM  02/01/2019 05:59:30 AM   \n",
       "1       2.0  02/01/2019 12:58:08 PM  02/01/2019 01:12:18 PM   \n",
       "2       2.0  02/01/2019 01:48:16 PM  02/01/2019 01:54:23 PM   \n",
       "3       1.0  02/01/2019 01:43:17 PM  02/01/2019 01:50:07 PM   \n",
       "4       2.0  02/01/2019 01:44:45 PM  02/01/2019 01:45:18 PM   \n",
       "\n",
       "  store_and_fwd_flag  RatecodeID  PULocationID  DOLocationID  passenger_count  \\\n",
       "0                  N         5.0            22            40              1.0   \n",
       "1                  N         1.0            75           236              1.0   \n",
       "2                  N         1.0             7           146              1.0   \n",
       "3                  N         1.0           210           150              1.0   \n",
       "4                  N         1.0            92            92              1.0   \n",
       "\n",
       "   trip_distance  fare_amount  extra  mta_tax  tip_amount  tolls_amount  \\\n",
       "0           8.83        24.44    0.0      0.5         0.0           0.0   \n",
       "1           1.89        10.50    0.0      0.5         0.0           0.0   \n",
       "2           0.86         6.00    0.0      0.5         0.0           0.0   \n",
       "3           1.30         7.00    0.0      0.5         2.3           0.0   \n",
       "4           0.03        -2.50    0.0     -0.5         0.0           0.0   \n",
       "\n",
       "   improvement_surcharge  total_amount  payment_type  trip_type  \\\n",
       "0                    0.0         24.94           1.0        2.0   \n",
       "1                    0.3         11.30           1.0        1.0   \n",
       "2                    0.3          6.80           2.0        1.0   \n",
       "3                    0.3         10.10           1.0        1.0   \n",
       "4                   -0.3         -3.30           4.0        1.0   \n",
       "\n",
       "   congestion_surcharge  \n",
       "0                   0.0  \n",
       "1                   0.0  \n",
       "2                   0.0  \n",
       "3                   0.0  \n",
       "4                   0.0  "
      ]
     },
     "execution_count": 52,
     "metadata": {},
     "output_type": "execute_result"
    }
   ],
   "source": [
    "df_final[~df_final.congestion_surcharge.isnull()].head()"
   ]
  },
  {
   "cell_type": "markdown",
   "id": "956803ac",
   "metadata": {},
   "source": [
    "In the head table, for congestion_surcharge all the values are 0.0. Let's see if there are other values in it or not. "
   ]
  },
  {
   "cell_type": "code",
   "execution_count": 54,
   "id": "839dc9b3",
   "metadata": {},
   "outputs": [
    {
     "data": {
      "text/plain": [
       "0.00    4577\n",
       "2.75     877\n",
       "Name: congestion_surcharge, dtype: int64"
      ]
     },
     "execution_count": 54,
     "metadata": {},
     "output_type": "execute_result"
    }
   ],
   "source": [
    "df_final['congestion_surcharge'][~df_final.congestion_surcharge.isnull()].value_counts()"
   ]
  },
  {
   "cell_type": "markdown",
   "id": "53037b0f",
   "metadata": {},
   "source": [
    "Ok. At least now I know it is not just 0.0. Let's see if the congestion_surcharge value has any effect on the 'total_amount'. "
   ]
  },
  {
   "cell_type": "code",
   "execution_count": 61,
   "id": "70552f1f",
   "metadata": {},
   "outputs": [
    {
     "data": {
      "text/html": [
       "<div>\n",
       "<style scoped>\n",
       "    .dataframe tbody tr th:only-of-type {\n",
       "        vertical-align: middle;\n",
       "    }\n",
       "\n",
       "    .dataframe tbody tr th {\n",
       "        vertical-align: top;\n",
       "    }\n",
       "\n",
       "    .dataframe thead th {\n",
       "        text-align: right;\n",
       "    }\n",
       "</style>\n",
       "<table border=\"1\" class=\"dataframe\">\n",
       "  <thead>\n",
       "    <tr style=\"text-align: right;\">\n",
       "      <th></th>\n",
       "      <th>VendorID</th>\n",
       "      <th>lpep_pickup_datetime</th>\n",
       "      <th>lpep_dropoff_datetime</th>\n",
       "      <th>store_and_fwd_flag</th>\n",
       "      <th>RatecodeID</th>\n",
       "      <th>PULocationID</th>\n",
       "      <th>DOLocationID</th>\n",
       "      <th>passenger_count</th>\n",
       "      <th>trip_distance</th>\n",
       "      <th>fare_amount</th>\n",
       "      <th>extra</th>\n",
       "      <th>mta_tax</th>\n",
       "      <th>tip_amount</th>\n",
       "      <th>tolls_amount</th>\n",
       "      <th>improvement_surcharge</th>\n",
       "      <th>total_amount</th>\n",
       "      <th>payment_type</th>\n",
       "      <th>trip_type</th>\n",
       "      <th>congestion_surcharge</th>\n",
       "    </tr>\n",
       "  </thead>\n",
       "  <tbody>\n",
       "    <tr>\n",
       "      <th>13</th>\n",
       "      <td>2.0</td>\n",
       "      <td>02/02/2019 10:38:19 AM</td>\n",
       "      <td>02/02/2019 11:04:40 AM</td>\n",
       "      <td>N</td>\n",
       "      <td>1.0</td>\n",
       "      <td>223</td>\n",
       "      <td>170</td>\n",
       "      <td>1.0</td>\n",
       "      <td>5.81</td>\n",
       "      <td>21.5</td>\n",
       "      <td>0.0</td>\n",
       "      <td>0.5</td>\n",
       "      <td>0.00</td>\n",
       "      <td>0.0</td>\n",
       "      <td>0.3</td>\n",
       "      <td>25.05</td>\n",
       "      <td>2.0</td>\n",
       "      <td>1.0</td>\n",
       "      <td>2.75</td>\n",
       "    </tr>\n",
       "    <tr>\n",
       "      <th>15</th>\n",
       "      <td>2.0</td>\n",
       "      <td>02/02/2019 11:29:34 AM</td>\n",
       "      <td>02/02/2019 11:35:48 AM</td>\n",
       "      <td>N</td>\n",
       "      <td>1.0</td>\n",
       "      <td>75</td>\n",
       "      <td>263</td>\n",
       "      <td>1.0</td>\n",
       "      <td>1.06</td>\n",
       "      <td>6.0</td>\n",
       "      <td>0.0</td>\n",
       "      <td>0.5</td>\n",
       "      <td>1.00</td>\n",
       "      <td>0.0</td>\n",
       "      <td>0.3</td>\n",
       "      <td>10.55</td>\n",
       "      <td>1.0</td>\n",
       "      <td>1.0</td>\n",
       "      <td>2.75</td>\n",
       "    </tr>\n",
       "    <tr>\n",
       "      <th>23</th>\n",
       "      <td>2.0</td>\n",
       "      <td>02/02/2019 10:09:50 PM</td>\n",
       "      <td>02/02/2019 10:38:33 PM</td>\n",
       "      <td>N</td>\n",
       "      <td>1.0</td>\n",
       "      <td>80</td>\n",
       "      <td>158</td>\n",
       "      <td>1.0</td>\n",
       "      <td>7.12</td>\n",
       "      <td>25.0</td>\n",
       "      <td>0.5</td>\n",
       "      <td>0.5</td>\n",
       "      <td>2.00</td>\n",
       "      <td>0.0</td>\n",
       "      <td>0.3</td>\n",
       "      <td>31.05</td>\n",
       "      <td>1.0</td>\n",
       "      <td>1.0</td>\n",
       "      <td>2.75</td>\n",
       "    </tr>\n",
       "    <tr>\n",
       "      <th>41</th>\n",
       "      <td>2.0</td>\n",
       "      <td>02/04/2019 10:20:24 PM</td>\n",
       "      <td>02/04/2019 10:59:03 PM</td>\n",
       "      <td>N</td>\n",
       "      <td>1.0</td>\n",
       "      <td>166</td>\n",
       "      <td>107</td>\n",
       "      <td>1.0</td>\n",
       "      <td>7.35</td>\n",
       "      <td>30.5</td>\n",
       "      <td>0.5</td>\n",
       "      <td>0.5</td>\n",
       "      <td>3.46</td>\n",
       "      <td>0.0</td>\n",
       "      <td>0.3</td>\n",
       "      <td>38.01</td>\n",
       "      <td>1.0</td>\n",
       "      <td>1.0</td>\n",
       "      <td>2.75</td>\n",
       "    </tr>\n",
       "    <tr>\n",
       "      <th>46</th>\n",
       "      <td>2.0</td>\n",
       "      <td>02/05/2019 07:08:12 AM</td>\n",
       "      <td>02/05/2019 07:21:11 AM</td>\n",
       "      <td>N</td>\n",
       "      <td>1.0</td>\n",
       "      <td>75</td>\n",
       "      <td>229</td>\n",
       "      <td>1.0</td>\n",
       "      <td>2.42</td>\n",
       "      <td>10.5</td>\n",
       "      <td>0.0</td>\n",
       "      <td>0.5</td>\n",
       "      <td>2.81</td>\n",
       "      <td>0.0</td>\n",
       "      <td>0.3</td>\n",
       "      <td>16.86</td>\n",
       "      <td>1.0</td>\n",
       "      <td>1.0</td>\n",
       "      <td>2.75</td>\n",
       "    </tr>\n",
       "  </tbody>\n",
       "</table>\n",
       "</div>"
      ],
      "text/plain": [
       "    VendorID    lpep_pickup_datetime   lpep_dropoff_datetime  \\\n",
       "13       2.0  02/02/2019 10:38:19 AM  02/02/2019 11:04:40 AM   \n",
       "15       2.0  02/02/2019 11:29:34 AM  02/02/2019 11:35:48 AM   \n",
       "23       2.0  02/02/2019 10:09:50 PM  02/02/2019 10:38:33 PM   \n",
       "41       2.0  02/04/2019 10:20:24 PM  02/04/2019 10:59:03 PM   \n",
       "46       2.0  02/05/2019 07:08:12 AM  02/05/2019 07:21:11 AM   \n",
       "\n",
       "   store_and_fwd_flag  RatecodeID  PULocationID  DOLocationID  \\\n",
       "13                  N         1.0           223           170   \n",
       "15                  N         1.0            75           263   \n",
       "23                  N         1.0            80           158   \n",
       "41                  N         1.0           166           107   \n",
       "46                  N         1.0            75           229   \n",
       "\n",
       "    passenger_count  trip_distance  fare_amount  extra  mta_tax  tip_amount  \\\n",
       "13              1.0           5.81         21.5    0.0      0.5        0.00   \n",
       "15              1.0           1.06          6.0    0.0      0.5        1.00   \n",
       "23              1.0           7.12         25.0    0.5      0.5        2.00   \n",
       "41              1.0           7.35         30.5    0.5      0.5        3.46   \n",
       "46              1.0           2.42         10.5    0.0      0.5        2.81   \n",
       "\n",
       "    tolls_amount  improvement_surcharge  total_amount  payment_type  \\\n",
       "13           0.0                    0.3         25.05           2.0   \n",
       "15           0.0                    0.3         10.55           1.0   \n",
       "23           0.0                    0.3         31.05           1.0   \n",
       "41           0.0                    0.3         38.01           1.0   \n",
       "46           0.0                    0.3         16.86           1.0   \n",
       "\n",
       "    trip_type  congestion_surcharge  \n",
       "13        1.0                  2.75  \n",
       "15        1.0                  2.75  \n",
       "23        1.0                  2.75  \n",
       "41        1.0                  2.75  \n",
       "46        1.0                  2.75  "
      ]
     },
     "execution_count": 61,
     "metadata": {},
     "output_type": "execute_result"
    }
   ],
   "source": [
    "df_final[df_final['congestion_surcharge'] == 2.75].head()"
   ]
  },
  {
   "cell_type": "markdown",
   "id": "2977fde6",
   "metadata": {},
   "source": [
    "* Ok. So the congestion_surcharge is included in the 'total_amount'. Now let's chech if the rows with NaN for congestion_surcharge and see their 'total_amount'. "
   ]
  },
  {
   "cell_type": "code",
   "execution_count": 62,
   "id": "b13a3f40",
   "metadata": {},
   "outputs": [
    {
     "data": {
      "text/html": [
       "<div>\n",
       "<style scoped>\n",
       "    .dataframe tbody tr th:only-of-type {\n",
       "        vertical-align: middle;\n",
       "    }\n",
       "\n",
       "    .dataframe tbody tr th {\n",
       "        vertical-align: top;\n",
       "    }\n",
       "\n",
       "    .dataframe thead th {\n",
       "        text-align: right;\n",
       "    }\n",
       "</style>\n",
       "<table border=\"1\" class=\"dataframe\">\n",
       "  <thead>\n",
       "    <tr style=\"text-align: right;\">\n",
       "      <th></th>\n",
       "      <th>VendorID</th>\n",
       "      <th>lpep_pickup_datetime</th>\n",
       "      <th>lpep_dropoff_datetime</th>\n",
       "      <th>store_and_fwd_flag</th>\n",
       "      <th>RatecodeID</th>\n",
       "      <th>PULocationID</th>\n",
       "      <th>DOLocationID</th>\n",
       "      <th>passenger_count</th>\n",
       "      <th>trip_distance</th>\n",
       "      <th>fare_amount</th>\n",
       "      <th>extra</th>\n",
       "      <th>mta_tax</th>\n",
       "      <th>tip_amount</th>\n",
       "      <th>tolls_amount</th>\n",
       "      <th>improvement_surcharge</th>\n",
       "      <th>total_amount</th>\n",
       "      <th>payment_type</th>\n",
       "      <th>trip_type</th>\n",
       "      <th>congestion_surcharge</th>\n",
       "    </tr>\n",
       "  </thead>\n",
       "  <tbody>\n",
       "    <tr>\n",
       "      <th>0</th>\n",
       "      <td>2.0</td>\n",
       "      <td>01/01/2018 12:19:35 AM</td>\n",
       "      <td>01/01/2018 12:28:50 AM</td>\n",
       "      <td>N</td>\n",
       "      <td>1.0</td>\n",
       "      <td>247</td>\n",
       "      <td>212</td>\n",
       "      <td>1.0</td>\n",
       "      <td>3.21</td>\n",
       "      <td>11.5</td>\n",
       "      <td>0.5</td>\n",
       "      <td>0.5</td>\n",
       "      <td>0.00</td>\n",
       "      <td>0.0</td>\n",
       "      <td>0.3</td>\n",
       "      <td>12.80</td>\n",
       "      <td>2.0</td>\n",
       "      <td>1.0</td>\n",
       "      <td>NaN</td>\n",
       "    </tr>\n",
       "    <tr>\n",
       "      <th>1</th>\n",
       "      <td>2.0</td>\n",
       "      <td>01/01/2018 12:04:22 AM</td>\n",
       "      <td>01/01/2018 12:17:58 AM</td>\n",
       "      <td>N</td>\n",
       "      <td>1.0</td>\n",
       "      <td>89</td>\n",
       "      <td>190</td>\n",
       "      <td>1.0</td>\n",
       "      <td>2.37</td>\n",
       "      <td>11.5</td>\n",
       "      <td>0.5</td>\n",
       "      <td>0.5</td>\n",
       "      <td>0.00</td>\n",
       "      <td>0.0</td>\n",
       "      <td>0.3</td>\n",
       "      <td>12.80</td>\n",
       "      <td>1.0</td>\n",
       "      <td>1.0</td>\n",
       "      <td>NaN</td>\n",
       "    </tr>\n",
       "    <tr>\n",
       "      <th>2</th>\n",
       "      <td>2.0</td>\n",
       "      <td>01/01/2018 01:40:52 AM</td>\n",
       "      <td>01/01/2018 01:48:39 AM</td>\n",
       "      <td>N</td>\n",
       "      <td>1.0</td>\n",
       "      <td>25</td>\n",
       "      <td>66</td>\n",
       "      <td>1.0</td>\n",
       "      <td>1.32</td>\n",
       "      <td>7.0</td>\n",
       "      <td>0.5</td>\n",
       "      <td>0.5</td>\n",
       "      <td>2.08</td>\n",
       "      <td>0.0</td>\n",
       "      <td>0.3</td>\n",
       "      <td>10.38</td>\n",
       "      <td>1.0</td>\n",
       "      <td>1.0</td>\n",
       "      <td>NaN</td>\n",
       "    </tr>\n",
       "    <tr>\n",
       "      <th>3</th>\n",
       "      <td>2.0</td>\n",
       "      <td>01/01/2018 03:12:47 AM</td>\n",
       "      <td>01/01/2018 03:29:38 AM</td>\n",
       "      <td>N</td>\n",
       "      <td>1.0</td>\n",
       "      <td>75</td>\n",
       "      <td>167</td>\n",
       "      <td>2.0</td>\n",
       "      <td>3.85</td>\n",
       "      <td>14.5</td>\n",
       "      <td>0.5</td>\n",
       "      <td>0.5</td>\n",
       "      <td>0.00</td>\n",
       "      <td>0.0</td>\n",
       "      <td>0.3</td>\n",
       "      <td>15.80</td>\n",
       "      <td>2.0</td>\n",
       "      <td>1.0</td>\n",
       "      <td>NaN</td>\n",
       "    </tr>\n",
       "    <tr>\n",
       "      <th>4</th>\n",
       "      <td>2.0</td>\n",
       "      <td>01/01/2018 05:53:39 AM</td>\n",
       "      <td>01/01/2018 06:05:29 AM</td>\n",
       "      <td>N</td>\n",
       "      <td>1.0</td>\n",
       "      <td>82</td>\n",
       "      <td>157</td>\n",
       "      <td>1.0</td>\n",
       "      <td>2.59</td>\n",
       "      <td>11.0</td>\n",
       "      <td>0.5</td>\n",
       "      <td>0.5</td>\n",
       "      <td>0.00</td>\n",
       "      <td>0.0</td>\n",
       "      <td>0.3</td>\n",
       "      <td>12.30</td>\n",
       "      <td>2.0</td>\n",
       "      <td>1.0</td>\n",
       "      <td>NaN</td>\n",
       "    </tr>\n",
       "  </tbody>\n",
       "</table>\n",
       "</div>"
      ],
      "text/plain": [
       "   VendorID    lpep_pickup_datetime   lpep_dropoff_datetime  \\\n",
       "0       2.0  01/01/2018 12:19:35 AM  01/01/2018 12:28:50 AM   \n",
       "1       2.0  01/01/2018 12:04:22 AM  01/01/2018 12:17:58 AM   \n",
       "2       2.0  01/01/2018 01:40:52 AM  01/01/2018 01:48:39 AM   \n",
       "3       2.0  01/01/2018 03:12:47 AM  01/01/2018 03:29:38 AM   \n",
       "4       2.0  01/01/2018 05:53:39 AM  01/01/2018 06:05:29 AM   \n",
       "\n",
       "  store_and_fwd_flag  RatecodeID  PULocationID  DOLocationID  passenger_count  \\\n",
       "0                  N         1.0           247           212              1.0   \n",
       "1                  N         1.0            89           190              1.0   \n",
       "2                  N         1.0            25            66              1.0   \n",
       "3                  N         1.0            75           167              2.0   \n",
       "4                  N         1.0            82           157              1.0   \n",
       "\n",
       "   trip_distance  fare_amount  extra  mta_tax  tip_amount  tolls_amount  \\\n",
       "0           3.21         11.5    0.5      0.5        0.00           0.0   \n",
       "1           2.37         11.5    0.5      0.5        0.00           0.0   \n",
       "2           1.32          7.0    0.5      0.5        2.08           0.0   \n",
       "3           3.85         14.5    0.5      0.5        0.00           0.0   \n",
       "4           2.59         11.0    0.5      0.5        0.00           0.0   \n",
       "\n",
       "   improvement_surcharge  total_amount  payment_type  trip_type  \\\n",
       "0                    0.3         12.80           2.0        1.0   \n",
       "1                    0.3         12.80           1.0        1.0   \n",
       "2                    0.3         10.38           1.0        1.0   \n",
       "3                    0.3         15.80           2.0        1.0   \n",
       "4                    0.3         12.30           2.0        1.0   \n",
       "\n",
       "   congestion_surcharge  \n",
       "0                   NaN  \n",
       "1                   NaN  \n",
       "2                   NaN  \n",
       "3                   NaN  \n",
       "4                   NaN  "
      ]
     },
     "execution_count": 62,
     "metadata": {},
     "output_type": "execute_result"
    }
   ],
   "source": [
    "df_final[df_final['congestion_surcharge'].isnull()].head()"
   ]
  },
  {
   "cell_type": "code",
   "execution_count": 63,
   "id": "6f84954b",
   "metadata": {},
   "outputs": [
    {
     "data": {
      "text/html": [
       "<div>\n",
       "<style scoped>\n",
       "    .dataframe tbody tr th:only-of-type {\n",
       "        vertical-align: middle;\n",
       "    }\n",
       "\n",
       "    .dataframe tbody tr th {\n",
       "        vertical-align: top;\n",
       "    }\n",
       "\n",
       "    .dataframe thead th {\n",
       "        text-align: right;\n",
       "    }\n",
       "</style>\n",
       "<table border=\"1\" class=\"dataframe\">\n",
       "  <thead>\n",
       "    <tr style=\"text-align: right;\">\n",
       "      <th></th>\n",
       "      <th>VendorID</th>\n",
       "      <th>lpep_pickup_datetime</th>\n",
       "      <th>lpep_dropoff_datetime</th>\n",
       "      <th>store_and_fwd_flag</th>\n",
       "      <th>RatecodeID</th>\n",
       "      <th>PULocationID</th>\n",
       "      <th>DOLocationID</th>\n",
       "      <th>passenger_count</th>\n",
       "      <th>trip_distance</th>\n",
       "      <th>fare_amount</th>\n",
       "      <th>extra</th>\n",
       "      <th>mta_tax</th>\n",
       "      <th>tip_amount</th>\n",
       "      <th>tolls_amount</th>\n",
       "      <th>improvement_surcharge</th>\n",
       "      <th>total_amount</th>\n",
       "      <th>payment_type</th>\n",
       "      <th>trip_type</th>\n",
       "      <th>congestion_surcharge</th>\n",
       "    </tr>\n",
       "  </thead>\n",
       "  <tbody>\n",
       "    <tr>\n",
       "      <th>639</th>\n",
       "      <td>1.0</td>\n",
       "      <td>01/27/2019 06:27:52 PM</td>\n",
       "      <td>01/27/2019 06:41:10 PM</td>\n",
       "      <td>N</td>\n",
       "      <td>1.0</td>\n",
       "      <td>42</td>\n",
       "      <td>74</td>\n",
       "      <td>1.0</td>\n",
       "      <td>2.40</td>\n",
       "      <td>11.0</td>\n",
       "      <td>1.0</td>\n",
       "      <td>0.5</td>\n",
       "      <td>2.2</td>\n",
       "      <td>0.0</td>\n",
       "      <td>0.3</td>\n",
       "      <td>15.0</td>\n",
       "      <td>1.0</td>\n",
       "      <td>1.0</td>\n",
       "      <td>NaN</td>\n",
       "    </tr>\n",
       "    <tr>\n",
       "      <th>640</th>\n",
       "      <td>1.0</td>\n",
       "      <td>01/27/2019 07:17:37 PM</td>\n",
       "      <td>01/27/2019 07:25:51 PM</td>\n",
       "      <td>N</td>\n",
       "      <td>1.0</td>\n",
       "      <td>74</td>\n",
       "      <td>236</td>\n",
       "      <td>1.0</td>\n",
       "      <td>1.70</td>\n",
       "      <td>8.0</td>\n",
       "      <td>0.0</td>\n",
       "      <td>0.5</td>\n",
       "      <td>2.2</td>\n",
       "      <td>0.0</td>\n",
       "      <td>0.3</td>\n",
       "      <td>11.0</td>\n",
       "      <td>1.0</td>\n",
       "      <td>1.0</td>\n",
       "      <td>NaN</td>\n",
       "    </tr>\n",
       "    <tr>\n",
       "      <th>641</th>\n",
       "      <td>2.0</td>\n",
       "      <td>01/27/2019 07:22:05 PM</td>\n",
       "      <td>01/27/2019 07:24:18 PM</td>\n",
       "      <td>N</td>\n",
       "      <td>1.0</td>\n",
       "      <td>41</td>\n",
       "      <td>42</td>\n",
       "      <td>1.0</td>\n",
       "      <td>0.76</td>\n",
       "      <td>4.5</td>\n",
       "      <td>0.0</td>\n",
       "      <td>0.5</td>\n",
       "      <td>0.0</td>\n",
       "      <td>0.0</td>\n",
       "      <td>0.3</td>\n",
       "      <td>5.3</td>\n",
       "      <td>1.0</td>\n",
       "      <td>1.0</td>\n",
       "      <td>NaN</td>\n",
       "    </tr>\n",
       "    <tr>\n",
       "      <th>642</th>\n",
       "      <td>1.0</td>\n",
       "      <td>01/27/2019 07:30:05 PM</td>\n",
       "      <td>01/27/2019 07:36:24 PM</td>\n",
       "      <td>N</td>\n",
       "      <td>1.0</td>\n",
       "      <td>33</td>\n",
       "      <td>66</td>\n",
       "      <td>0.0</td>\n",
       "      <td>1.10</td>\n",
       "      <td>6.5</td>\n",
       "      <td>0.0</td>\n",
       "      <td>0.5</td>\n",
       "      <td>0.0</td>\n",
       "      <td>0.0</td>\n",
       "      <td>0.3</td>\n",
       "      <td>7.3</td>\n",
       "      <td>1.0</td>\n",
       "      <td>1.0</td>\n",
       "      <td>NaN</td>\n",
       "    </tr>\n",
       "    <tr>\n",
       "      <th>643</th>\n",
       "      <td>2.0</td>\n",
       "      <td>01/27/2019 11:08:37 PM</td>\n",
       "      <td>01/27/2019 11:17:08 PM</td>\n",
       "      <td>N</td>\n",
       "      <td>1.0</td>\n",
       "      <td>95</td>\n",
       "      <td>134</td>\n",
       "      <td>2.0</td>\n",
       "      <td>1.60</td>\n",
       "      <td>8.0</td>\n",
       "      <td>0.5</td>\n",
       "      <td>0.5</td>\n",
       "      <td>0.0</td>\n",
       "      <td>0.0</td>\n",
       "      <td>0.3</td>\n",
       "      <td>9.3</td>\n",
       "      <td>2.0</td>\n",
       "      <td>1.0</td>\n",
       "      <td>NaN</td>\n",
       "    </tr>\n",
       "  </tbody>\n",
       "</table>\n",
       "</div>"
      ],
      "text/plain": [
       "     VendorID    lpep_pickup_datetime   lpep_dropoff_datetime  \\\n",
       "639       1.0  01/27/2019 06:27:52 PM  01/27/2019 06:41:10 PM   \n",
       "640       1.0  01/27/2019 07:17:37 PM  01/27/2019 07:25:51 PM   \n",
       "641       2.0  01/27/2019 07:22:05 PM  01/27/2019 07:24:18 PM   \n",
       "642       1.0  01/27/2019 07:30:05 PM  01/27/2019 07:36:24 PM   \n",
       "643       2.0  01/27/2019 11:08:37 PM  01/27/2019 11:17:08 PM   \n",
       "\n",
       "    store_and_fwd_flag  RatecodeID  PULocationID  DOLocationID  \\\n",
       "639                  N         1.0            42            74   \n",
       "640                  N         1.0            74           236   \n",
       "641                  N         1.0            41            42   \n",
       "642                  N         1.0            33            66   \n",
       "643                  N         1.0            95           134   \n",
       "\n",
       "     passenger_count  trip_distance  fare_amount  extra  mta_tax  tip_amount  \\\n",
       "639              1.0           2.40         11.0    1.0      0.5         2.2   \n",
       "640              1.0           1.70          8.0    0.0      0.5         2.2   \n",
       "641              1.0           0.76          4.5    0.0      0.5         0.0   \n",
       "642              0.0           1.10          6.5    0.0      0.5         0.0   \n",
       "643              2.0           1.60          8.0    0.5      0.5         0.0   \n",
       "\n",
       "     tolls_amount  improvement_surcharge  total_amount  payment_type  \\\n",
       "639           0.0                    0.3          15.0           1.0   \n",
       "640           0.0                    0.3          11.0           1.0   \n",
       "641           0.0                    0.3           5.3           1.0   \n",
       "642           0.0                    0.3           7.3           1.0   \n",
       "643           0.0                    0.3           9.3           2.0   \n",
       "\n",
       "     trip_type  congestion_surcharge  \n",
       "639        1.0                   NaN  \n",
       "640        1.0                   NaN  \n",
       "641        1.0                   NaN  \n",
       "642        1.0                   NaN  \n",
       "643        1.0                   NaN  "
      ]
     },
     "execution_count": 63,
     "metadata": {},
     "output_type": "execute_result"
    }
   ],
   "source": [
    "df_final[df_final['congestion_surcharge'].isnull()].tail()"
   ]
  },
  {
   "cell_type": "markdown",
   "id": "7ca583e6",
   "metadata": {},
   "source": [
    "* It looks like that the NaN values for congestion_surcharge are mistakenly placed, as the 'total_amount' column is the sum of 'fare_amount', 'extra', mta_tax', 'tip_amount', 'improvement_surcharge', and 'congestion_surcharge'. The reason is that for those rows with 0.0 and 2.75 values, this is happening; and for the rows with NaN value at congestion_surcharge can be replaced be calculated as of subtraction of 'total_amount' and other fees. It is mostly 0.0, but just in case, I go with the subtraction method. Otherwise, they could be of 0.0 value. "
   ]
  },
  {
   "cell_type": "code",
   "execution_count": 76,
   "id": "1ddad543",
   "metadata": {},
   "outputs": [],
   "source": [
    "df_final.congestion_surcharge = df_final['total_amount'] - (df_final['fare_amount'] + df_final['extra'] + df_final['mta_tax'] + df_final['tip_amount'] + df_final['tolls_amount'] + df_final['improvement_surcharge'])"
   ]
  },
  {
   "cell_type": "markdown",
   "id": "b324c2e7",
   "metadata": {},
   "source": [
    "* Let's check the status of the congestion_surcharge again."
   ]
  },
  {
   "cell_type": "code",
   "execution_count": 77,
   "id": "b151c747",
   "metadata": {},
   "outputs": [
    {
     "data": {
      "text/plain": [
       " 0.000000e+00    7643\n",
       " 2.750000e+00     592\n",
       "-1.776357e-15     494\n",
       " 7.105427e-15     158\n",
       " 1.950000e+00      66\n",
       " 2.750000e+00      57\n",
       "-3.552714e-15      55\n",
       " 2.750000e+00      44\n",
       " 2.750000e+00      23\n",
       " 8.881784e-16      21\n",
       " 2.750000e+00      21\n",
       " 1.950000e+00      21\n",
       " 4.700000e+00       9\n",
       " 1.950000e+00       7\n",
       " 1.421085e-14       4\n",
       " 3.552714e-15       4\n",
       "-1.421085e-14       3\n",
       " 1.950000e+00       3\n",
       " 2.750000e+00       2\n",
       " 3.900000e+00       1\n",
       " 4.700000e+00       1\n",
       " 2.750000e+00       1\n",
       " 1.950000e+00       1\n",
       " 1.950000e+00       1\n",
       " 4.950000e+00       1\n",
       " 1.950000e+00       1\n",
       " 1.950000e+00       1\n",
       " 4.700000e+00       1\n",
       "Name: congestion_surcharge, dtype: int64"
      ]
     },
     "execution_count": 77,
     "metadata": {},
     "output_type": "execute_result"
    }
   ],
   "source": [
    "df_final['congestion_surcharge'][~df_final.congestion_surcharge.isnull()].value_counts()"
   ]
  },
  {
   "cell_type": "markdown",
   "id": "b3b835eb",
   "metadata": {},
   "source": [
    "* Oh!!, new values has arrised. So I have to check the number of unique values in the congestion_surcharge. "
   ]
  },
  {
   "cell_type": "code",
   "execution_count": 78,
   "id": "ce3c6877",
   "metadata": {},
   "outputs": [
    {
     "data": {
      "text/plain": [
       "28"
      ]
     },
     "execution_count": 78,
     "metadata": {},
     "output_type": "execute_result"
    }
   ],
   "source": [
    "df_final['congestion_surcharge'][~df_final.congestion_surcharge.isnull()].nunique()"
   ]
  },
  {
   "cell_type": "markdown",
   "id": "96180d34",
   "metadata": {},
   "source": [
    "* Now let's make sure there are no more NaN values. "
   ]
  },
  {
   "cell_type": "code",
   "execution_count": 79,
   "id": "c6aa7681",
   "metadata": {},
   "outputs": [
    {
     "data": {
      "text/plain": [
       "VendorID                 0\n",
       "lpep_pickup_datetime     0\n",
       "lpep_dropoff_datetime    0\n",
       "store_and_fwd_flag       0\n",
       "RatecodeID               0\n",
       "PULocationID             0\n",
       "DOLocationID             0\n",
       "passenger_count          0\n",
       "trip_distance            0\n",
       "fare_amount              0\n",
       "extra                    0\n",
       "mta_tax                  0\n",
       "tip_amount               0\n",
       "tolls_amount             0\n",
       "improvement_surcharge    0\n",
       "total_amount             0\n",
       "payment_type             0\n",
       "trip_type                0\n",
       "congestion_surcharge     0\n",
       "dtype: int64"
      ]
     },
     "execution_count": 79,
     "metadata": {},
     "output_type": "execute_result"
    }
   ],
   "source": [
    "df_final.isnull().sum()"
   ]
  },
  {
   "cell_type": "markdown",
   "id": "0b62f7fc",
   "metadata": {},
   "source": [
    "* Now let's chack the information of the dataset. "
   ]
  },
  {
   "cell_type": "code",
   "execution_count": 81,
   "id": "cf11dac3",
   "metadata": {},
   "outputs": [
    {
     "name": "stdout",
     "output_type": "stream",
     "text": [
      "<class 'pandas.core.frame.DataFrame'>\n",
      "Int64Index: 9236 entries, 0 to 3432\n",
      "Data columns (total 19 columns):\n",
      " #   Column                 Non-Null Count  Dtype  \n",
      "---  ------                 --------------  -----  \n",
      " 0   VendorID               9236 non-null   float64\n",
      " 1   lpep_pickup_datetime   9236 non-null   object \n",
      " 2   lpep_dropoff_datetime  9236 non-null   object \n",
      " 3   store_and_fwd_flag     9236 non-null   object \n",
      " 4   RatecodeID             9236 non-null   float64\n",
      " 5   PULocationID           9236 non-null   int64  \n",
      " 6   DOLocationID           9236 non-null   int64  \n",
      " 7   passenger_count        9236 non-null   float64\n",
      " 8   trip_distance          9236 non-null   float64\n",
      " 9   fare_amount            9236 non-null   float64\n",
      " 10  extra                  9236 non-null   float64\n",
      " 11  mta_tax                9236 non-null   float64\n",
      " 12  tip_amount             9236 non-null   float64\n",
      " 13  tolls_amount           9236 non-null   float64\n",
      " 14  improvement_surcharge  9236 non-null   float64\n",
      " 15  total_amount           9236 non-null   float64\n",
      " 16  payment_type           9236 non-null   float64\n",
      " 17  trip_type              9236 non-null   float64\n",
      " 18  congestion_surcharge   9236 non-null   float64\n",
      "dtypes: float64(14), int64(2), object(3)\n",
      "memory usage: 1.7+ MB\n"
     ]
    }
   ],
   "source": [
    "df_final.info()"
   ]
  },
  {
   "cell_type": "markdown",
   "id": "656d2044",
   "metadata": {},
   "source": [
    "* Let's go to chack the features one by one. "
   ]
  },
  {
   "cell_type": "markdown",
   "id": "8f5b7ed8",
   "metadata": {},
   "source": [
    "* First, I want to see the 'VendorID'"
   ]
  },
  {
   "cell_type": "code",
   "execution_count": 82,
   "id": "6897fea2",
   "metadata": {},
   "outputs": [
    {
     "data": {
      "text/plain": [
       "2.0    7731\n",
       "1.0    1505\n",
       "Name: VendorID, dtype: int64"
      ]
     },
     "execution_count": 82,
     "metadata": {},
     "output_type": "execute_result"
    }
   ],
   "source": [
    "df_final.VendorID.value_counts()"
   ]
  },
  {
   "cell_type": "markdown",
   "id": "05114980",
   "metadata": {},
   "source": [
    "* 'VendorID' has two values, and that's it. No more! But I can change the dtype to integer. "
   ]
  },
  {
   "cell_type": "code",
   "execution_count": 85,
   "id": "4d07056e",
   "metadata": {},
   "outputs": [],
   "source": [
    "df_final.VendorID = df_final.VendorID.astype(int)"
   ]
  },
  {
   "cell_type": "code",
   "execution_count": 87,
   "id": "799ab66e",
   "metadata": {},
   "outputs": [
    {
     "name": "stdout",
     "output_type": "stream",
     "text": [
      "<class 'pandas.core.frame.DataFrame'>\n",
      "Int64Index: 9236 entries, 0 to 3432\n",
      "Data columns (total 19 columns):\n",
      " #   Column                 Non-Null Count  Dtype  \n",
      "---  ------                 --------------  -----  \n",
      " 0   VendorID               9236 non-null   int32  \n",
      " 1   lpep_pickup_datetime   9236 non-null   object \n",
      " 2   lpep_dropoff_datetime  9236 non-null   object \n",
      " 3   store_and_fwd_flag     9236 non-null   object \n",
      " 4   RatecodeID             9236 non-null   float64\n",
      " 5   PULocationID           9236 non-null   int64  \n",
      " 6   DOLocationID           9236 non-null   int64  \n",
      " 7   passenger_count        9236 non-null   float64\n",
      " 8   trip_distance          9236 non-null   float64\n",
      " 9   fare_amount            9236 non-null   float64\n",
      " 10  extra                  9236 non-null   float64\n",
      " 11  mta_tax                9236 non-null   float64\n",
      " 12  tip_amount             9236 non-null   float64\n",
      " 13  tolls_amount           9236 non-null   float64\n",
      " 14  improvement_surcharge  9236 non-null   float64\n",
      " 15  total_amount           9236 non-null   float64\n",
      " 16  payment_type           9236 non-null   float64\n",
      " 17  trip_type              9236 non-null   float64\n",
      " 18  congestion_surcharge   9236 non-null   float64\n",
      "dtypes: float64(13), int32(1), int64(2), object(3)\n",
      "memory usage: 1.6+ MB\n"
     ]
    }
   ],
   "source": [
    "df_final.info()"
   ]
  },
  {
   "cell_type": "markdown",
   "id": "fa8f8e2b",
   "metadata": {},
   "source": [
    "* The dtype of pickup time and drop off time is not datetime. Let's convert them to datetime. "
   ]
  },
  {
   "cell_type": "code",
   "execution_count": 91,
   "id": "bd0dd79d",
   "metadata": {},
   "outputs": [],
   "source": [
    "df_final.lpep_pickup_datetime = pd.to_datetime(df_final.lpep_pickup_datetime)\n",
    "df_final.lpep_dropoff_datetime = pd.to_datetime(df_final.lpep_dropoff_datetime)"
   ]
  },
  {
   "cell_type": "markdown",
   "id": "f067c504",
   "metadata": {},
   "source": [
    "* There is some issue with indexes. They must be reset."
   ]
  },
  {
   "cell_type": "code",
   "execution_count": 107,
   "id": "af8e52e1",
   "metadata": {},
   "outputs": [],
   "source": [
    "df_final.reset_index(inplace=True)"
   ]
  },
  {
   "cell_type": "markdown",
   "id": "e2188580",
   "metadata": {},
   "source": [
    "## Derriving new attributes from datasests' attributes. "
   ]
  },
  {
   "cell_type": "markdown",
   "id": "90134959",
   "metadata": {},
   "source": [
    "### Let's create our firs column."
   ]
  },
  {
   "cell_type": "markdown",
   "id": "b6165338",
   "metadata": {},
   "source": [
    "* There is no duration column. It can be effective for further ainvestigation. Let's make this column. I will make a 'duration' column which is in seconds and it is int. "
   ]
  },
  {
   "cell_type": "code",
   "execution_count": 189,
   "id": "da65dbbd",
   "metadata": {},
   "outputs": [
    {
     "data": {
      "text/plain": [
       "0        555\n",
       "1        816\n",
       "2        467\n",
       "3       1011\n",
       "4        710\n",
       "        ... \n",
       "9231     547\n",
       "9232     457\n",
       "9233     337\n",
       "9234    2134\n",
       "9235     422\n",
       "Name: duration, Length: 9236, dtype: int64"
      ]
     },
     "execution_count": 189,
     "metadata": {},
     "output_type": "execute_result"
    }
   ],
   "source": [
    "from datetime import timedelta\n",
    "\n",
    "duration_series = []\n",
    "duration = df_final.lpep_dropoff_datetime - df_final.lpep_pickup_datetime\n",
    "for dur in duration:\n",
    "    duration_series.append(dur.seconds)\n",
    "df_final['duration'] = pd.Series(duration_series)\n",
    "df_final['duration']"
   ]
  },
  {
   "cell_type": "markdown",
   "id": "6ecd9d20",
   "metadata": {},
   "source": [
    "#### <u> First feature is derrived:</u> <b>Duration"
   ]
  },
  {
   "cell_type": "markdown",
   "id": "02f9af9d",
   "metadata": {},
   "source": [
    "### Let's create the second column"
   ]
  },
  {
   "cell_type": "code",
   "execution_count": 190,
   "id": "601596e6",
   "metadata": {},
   "outputs": [
    {
     "name": "stdout",
     "output_type": "stream",
     "text": [
      "<class 'pandas.core.frame.DataFrame'>\n",
      "RangeIndex: 9236 entries, 0 to 9235\n",
      "Data columns (total 21 columns):\n",
      " #   Column                 Non-Null Count  Dtype         \n",
      "---  ------                 --------------  -----         \n",
      " 0   index                  9236 non-null   int64         \n",
      " 1   VendorID               9236 non-null   int32         \n",
      " 2   lpep_pickup_datetime   9236 non-null   datetime64[ns]\n",
      " 3   lpep_dropoff_datetime  9236 non-null   datetime64[ns]\n",
      " 4   store_and_fwd_flag     9236 non-null   object        \n",
      " 5   RatecodeID             9236 non-null   float64       \n",
      " 6   PULocationID           9236 non-null   int64         \n",
      " 7   DOLocationID           9236 non-null   int64         \n",
      " 8   passenger_count        9236 non-null   float64       \n",
      " 9   trip_distance          9236 non-null   float64       \n",
      " 10  fare_amount            9236 non-null   float64       \n",
      " 11  extra                  9236 non-null   float64       \n",
      " 12  mta_tax                9236 non-null   float64       \n",
      " 13  tip_amount             9236 non-null   float64       \n",
      " 14  tolls_amount           9236 non-null   float64       \n",
      " 15  improvement_surcharge  9236 non-null   float64       \n",
      " 16  total_amount           9236 non-null   float64       \n",
      " 17  payment_type           9236 non-null   float64       \n",
      " 18  trip_type              9236 non-null   float64       \n",
      " 19  congestion_surcharge   9236 non-null   float64       \n",
      " 20  duration               9236 non-null   int64         \n",
      "dtypes: datetime64[ns](2), float64(13), int32(1), int64(4), object(1)\n",
      "memory usage: 1.4+ MB\n"
     ]
    }
   ],
   "source": [
    "df_final.info()"
   ]
  },
  {
   "cell_type": "markdown",
   "id": "845f780b",
   "metadata": {},
   "source": [
    "* Let's check the 'store_and_fwd_flag"
   ]
  },
  {
   "cell_type": "code",
   "execution_count": 191,
   "id": "ead85aef",
   "metadata": {},
   "outputs": [
    {
     "data": {
      "text/plain": [
       "N    9209\n",
       "Y      27\n",
       "Name: store_and_fwd_flag, dtype: int64"
      ]
     },
     "execution_count": 191,
     "metadata": {},
     "output_type": "execute_result"
    }
   ],
   "source": [
    "df_final['store_and_fwd_flag'].value_counts()"
   ]
  },
  {
   "cell_type": "code",
   "execution_count": 192,
   "id": "df403afd",
   "metadata": {},
   "outputs": [
    {
     "data": {
      "text/plain": [
       "0       0\n",
       "1       0\n",
       "2       0\n",
       "3       0\n",
       "4       0\n",
       "       ..\n",
       "9231    0\n",
       "9232    0\n",
       "9233    0\n",
       "9234    0\n",
       "9235    0\n",
       "Name: is_store_fwd, Length: 9236, dtype: int32"
      ]
     },
     "execution_count": 192,
     "metadata": {},
     "output_type": "execute_result"
    }
   ],
   "source": [
    "df_final['is_store_fwd'] = np.where(df_final['store_and_fwd_flag']=='N', 0, 1)\n",
    "df_final['is_store_fwd']"
   ]
  },
  {
   "cell_type": "code",
   "execution_count": 193,
   "id": "7b1d1341",
   "metadata": {},
   "outputs": [
    {
     "data": {
      "text/plain": [
       "0    9209\n",
       "1      27\n",
       "Name: is_store_fwd, dtype: int64"
      ]
     },
     "execution_count": 193,
     "metadata": {},
     "output_type": "execute_result"
    }
   ],
   "source": [
    "df_final['is_store_fwd'].value_counts()"
   ]
  },
  {
   "cell_type": "markdown",
   "id": "8800d5be",
   "metadata": {},
   "source": [
    "* Now I don't need the 'store_and_fwd_flag' feature anymore. Let's drop it. "
   ]
  },
  {
   "cell_type": "code",
   "execution_count": 195,
   "id": "75ac3357",
   "metadata": {},
   "outputs": [],
   "source": [
    "df_final.drop('store_and_fwd_flag', axis=1, inplace=True)"
   ]
  },
  {
   "cell_type": "markdown",
   "id": "eba7bcc3",
   "metadata": {},
   "source": [
    "### <u>Adding second column done!</u> <b>Is_stor_fwd"
   ]
  },
  {
   "cell_type": "markdown",
   "id": "8bc219e5",
   "metadata": {},
   "source": [
    "## Third column creation"
   ]
  },
  {
   "cell_type": "markdown",
   "id": "bb87b68c",
   "metadata": {},
   "source": [
    "* Let's check the 'RatecodeID' column. It is a score given to the tripe by the passenger(s). "
   ]
  },
  {
   "cell_type": "code",
   "execution_count": 197,
   "id": "2a9e58ed",
   "metadata": {},
   "outputs": [
    {
     "data": {
      "text/plain": [
       "array([1., 5., 3., 2., 4.])"
      ]
     },
     "execution_count": 197,
     "metadata": {},
     "output_type": "execute_result"
    }
   ],
   "source": [
    "df_final['RatecodeID'].unique()"
   ]
  },
  {
   "cell_type": "code",
   "execution_count": 198,
   "id": "8f6df51c",
   "metadata": {},
   "outputs": [
    {
     "data": {
      "text/plain": [
       "1.0    8918\n",
       "5.0     289\n",
       "2.0      21\n",
       "4.0       5\n",
       "3.0       3\n",
       "Name: RatecodeID, dtype: int64"
      ]
     },
     "execution_count": 198,
     "metadata": {},
     "output_type": "execute_result"
    }
   ],
   "source": [
    "df_final['RatecodeID'].value_counts()"
   ]
  },
  {
   "cell_type": "markdown",
   "id": "537ef7d3",
   "metadata": {},
   "source": [
    "* Ok. near 90% of this column is rate 1, which shows the highest satisfaction. The rest of values can be considered as not fully satisfied. So I will make a new column: Is_fully_satisfactory'. "
   ]
  },
  {
   "cell_type": "code",
   "execution_count": 200,
   "id": "998b818d",
   "metadata": {},
   "outputs": [
    {
     "data": {
      "text/plain": [
       "0       1\n",
       "1       1\n",
       "2       1\n",
       "3       1\n",
       "4       1\n",
       "       ..\n",
       "9231    1\n",
       "9232    1\n",
       "9233    1\n",
       "9234    1\n",
       "9235    1\n",
       "Name: is_fully_satisfactory, Length: 9236, dtype: int32"
      ]
     },
     "execution_count": 200,
     "metadata": {},
     "output_type": "execute_result"
    }
   ],
   "source": [
    "df_final['is_fully_satisfactory'] = np.where(df_final['RatecodeID'] == 1, 1, 0)\n",
    "df_final['is_fully_satisfactory']"
   ]
  },
  {
   "cell_type": "code",
   "execution_count": 201,
   "id": "4a33496f",
   "metadata": {},
   "outputs": [
    {
     "data": {
      "text/plain": [
       "1    8918\n",
       "0     318\n",
       "Name: is_fully_satisfactory, dtype: int64"
      ]
     },
     "execution_count": 201,
     "metadata": {},
     "output_type": "execute_result"
    }
   ],
   "source": [
    "df_final['is_fully_satisfactory'].value_counts()"
   ]
  },
  {
   "cell_type": "markdown",
   "id": "68f0a9fc",
   "metadata": {},
   "source": [
    "* Now I can drop the 'RatecodeID' as I don't need it anymore. "
   ]
  },
  {
   "cell_type": "code",
   "execution_count": 203,
   "id": "ad9af53c",
   "metadata": {},
   "outputs": [],
   "source": [
    "df_final.drop('RatecodeID', axis=1, inplace=True)"
   ]
  },
  {
   "cell_type": "markdown",
   "id": "e05b871f",
   "metadata": {},
   "source": [
    "### <u> Third column done!</u> <b> Is_fully_satisfactory"
   ]
  },
  {
   "cell_type": "markdown",
   "id": "e2d4e170",
   "metadata": {},
   "source": [
    "## Fourth column"
   ]
  },
  {
   "cell_type": "code",
   "execution_count": 204,
   "id": "6301bd58",
   "metadata": {},
   "outputs": [
    {
     "name": "stdout",
     "output_type": "stream",
     "text": [
      "<class 'pandas.core.frame.DataFrame'>\n",
      "RangeIndex: 9236 entries, 0 to 9235\n",
      "Data columns (total 21 columns):\n",
      " #   Column                 Non-Null Count  Dtype         \n",
      "---  ------                 --------------  -----         \n",
      " 0   index                  9236 non-null   int64         \n",
      " 1   VendorID               9236 non-null   int32         \n",
      " 2   lpep_pickup_datetime   9236 non-null   datetime64[ns]\n",
      " 3   lpep_dropoff_datetime  9236 non-null   datetime64[ns]\n",
      " 4   PULocationID           9236 non-null   int64         \n",
      " 5   DOLocationID           9236 non-null   int64         \n",
      " 6   passenger_count        9236 non-null   float64       \n",
      " 7   trip_distance          9236 non-null   float64       \n",
      " 8   fare_amount            9236 non-null   float64       \n",
      " 9   extra                  9236 non-null   float64       \n",
      " 10  mta_tax                9236 non-null   float64       \n",
      " 11  tip_amount             9236 non-null   float64       \n",
      " 12  tolls_amount           9236 non-null   float64       \n",
      " 13  improvement_surcharge  9236 non-null   float64       \n",
      " 14  total_amount           9236 non-null   float64       \n",
      " 15  payment_type           9236 non-null   float64       \n",
      " 16  trip_type              9236 non-null   float64       \n",
      " 17  congestion_surcharge   9236 non-null   float64       \n",
      " 18  duration               9236 non-null   int64         \n",
      " 19  is_store_fwd           9236 non-null   int32         \n",
      " 20  is_fully_satisfactory  9236 non-null   int32         \n",
      "dtypes: datetime64[ns](2), float64(12), int32(3), int64(4)\n",
      "memory usage: 1.4 MB\n"
     ]
    }
   ],
   "source": [
    "df_final.info()"
   ]
  },
  {
   "cell_type": "code",
   "execution_count": 205,
   "id": "a688e429",
   "metadata": {},
   "outputs": [
    {
     "data": {
      "text/plain": [
       "1.0    5216\n",
       "2.0    3965\n",
       "3.0      42\n",
       "4.0      13\n",
       "Name: payment_type, dtype: int64"
      ]
     },
     "execution_count": 205,
     "metadata": {},
     "output_type": "execute_result"
    }
   ],
   "source": [
    "df_final['payment_type'].value_counts()"
   ]
  },
  {
   "cell_type": "markdown",
   "id": "55001f9a",
   "metadata": {},
   "source": [
    "* More than 50% of trips amount are paid by online methods. I will create a new column regarding this; 'Is_payment_online'"
   ]
  },
  {
   "cell_type": "code",
   "execution_count": 208,
   "id": "e3195918",
   "metadata": {},
   "outputs": [
    {
     "data": {
      "text/plain": [
       "0       0\n",
       "1       1\n",
       "2       1\n",
       "3       0\n",
       "4       0\n",
       "       ..\n",
       "9231    1\n",
       "9232    0\n",
       "9233    0\n",
       "9234    1\n",
       "9235    1\n",
       "Name: is_payment_online, Length: 9236, dtype: int32"
      ]
     },
     "execution_count": 208,
     "metadata": {},
     "output_type": "execute_result"
    }
   ],
   "source": [
    "df_final['is_payment_online'] = np.where(df_final['payment_type'] == 1, 1, 0)\n",
    "df_final['is_payment_online']"
   ]
  },
  {
   "cell_type": "markdown",
   "id": "871f26a7",
   "metadata": {},
   "source": [
    "* Now I drop the 'payement_type' as it is not needed any more. "
   ]
  },
  {
   "cell_type": "code",
   "execution_count": 209,
   "id": "91df97f1",
   "metadata": {},
   "outputs": [],
   "source": [
    "df_final.drop('payment_type', axis=1, inplace=True)"
   ]
  },
  {
   "cell_type": "markdown",
   "id": "ba6b7afe",
   "metadata": {},
   "source": [
    "### <u>Fourth column is created:</u> <b>'Is_payment_online'"
   ]
  },
  {
   "cell_type": "markdown",
   "id": "9781755f",
   "metadata": {},
   "source": [
    "## Fifth column to derive"
   ]
  },
  {
   "cell_type": "markdown",
   "id": "12222125",
   "metadata": {},
   "source": [
    "* Now that I have both trip_distance and duration, I can create a column to find out rate of distance over duration fro each trip. "
   ]
  },
  {
   "cell_type": "code",
   "execution_count": 211,
   "id": "4a633905",
   "metadata": {},
   "outputs": [
    {
     "data": {
      "text/plain": [
       "count    9225.000000\n",
       "mean        0.003463\n",
       "std         0.010836\n",
       "min         0.000000\n",
       "25%         0.002351\n",
       "50%         0.002982\n",
       "75%         0.003895\n",
       "max         0.983333\n",
       "Name: distance_per_duration, dtype: float64"
      ]
     },
     "execution_count": 211,
     "metadata": {},
     "output_type": "execute_result"
    }
   ],
   "source": [
    "df_final['distance_per_duration'] = df_final['trip_distance'] / df_final['duration']\n",
    "df_final['distance_per_duration'].describe()"
   ]
  },
  {
   "cell_type": "markdown",
   "id": "ad78dd3b",
   "metadata": {},
   "source": [
    "### <u>Fifth column is:</u> <b>'distance_per_duration"
   ]
  },
  {
   "cell_type": "code",
   "execution_count": 217,
   "id": "cda939c1",
   "metadata": {},
   "outputs": [],
   "source": [
    "df_final.drop('index', axis=1, inplace=True)"
   ]
  },
  {
   "cell_type": "code",
   "execution_count": 218,
   "id": "95d0327b",
   "metadata": {},
   "outputs": [
    {
     "name": "stdout",
     "output_type": "stream",
     "text": [
      "<class 'pandas.core.frame.DataFrame'>\n",
      "RangeIndex: 9236 entries, 0 to 9235\n",
      "Data columns (total 21 columns):\n",
      " #   Column                 Non-Null Count  Dtype         \n",
      "---  ------                 --------------  -----         \n",
      " 0   VendorID               9236 non-null   int32         \n",
      " 1   lpep_pickup_datetime   9236 non-null   datetime64[ns]\n",
      " 2   lpep_dropoff_datetime  9236 non-null   datetime64[ns]\n",
      " 3   PULocationID           9236 non-null   int64         \n",
      " 4   DOLocationID           9236 non-null   int64         \n",
      " 5   passenger_count        9236 non-null   float64       \n",
      " 6   trip_distance          9236 non-null   float64       \n",
      " 7   fare_amount            9236 non-null   float64       \n",
      " 8   extra                  9236 non-null   float64       \n",
      " 9   mta_tax                9236 non-null   float64       \n",
      " 10  tip_amount             9236 non-null   float64       \n",
      " 11  tolls_amount           9236 non-null   float64       \n",
      " 12  improvement_surcharge  9236 non-null   float64       \n",
      " 13  total_amount           9236 non-null   float64       \n",
      " 14  trip_type              9236 non-null   float64       \n",
      " 15  congestion_surcharge   9236 non-null   float64       \n",
      " 16  duration               9236 non-null   int64         \n",
      " 17  is_store_fwd           9236 non-null   int32         \n",
      " 18  is_fully_satisfactory  9236 non-null   int32         \n",
      " 19  is_payment_online      9236 non-null   int32         \n",
      " 20  distance_per_duration  9225 non-null   float64       \n",
      "dtypes: datetime64[ns](2), float64(12), int32(4), int64(3)\n",
      "memory usage: 1.3 MB\n"
     ]
    }
   ],
   "source": [
    "df_final.info()"
   ]
  },
  {
   "cell_type": "code",
   "execution_count": 213,
   "id": "c8265a5a",
   "metadata": {},
   "outputs": [],
   "source": [
    "import seaborn as sns "
   ]
  },
  {
   "cell_type": "code",
   "execution_count": 219,
   "id": "65ad9e4d",
   "metadata": {},
   "outputs": [
    {
     "data": {
      "text/plain": [
       "<AxesSubplot:xlabel='is_fully_satisfactory', ylabel='total_amount'>"
      ]
     },
     "execution_count": 219,
     "metadata": {},
     "output_type": "execute_result"
    },
    {
     "data": {
      "image/png": "[encoded data removed]",
      "text/plain": [
       "<Figure size 432x288 with 1 Axes>"
      ]
     },
     "metadata": {
      "needs_background": "light"
     },
     "output_type": "display_data"
    }
   ],
   "source": [
    "sns.scatterplot(data=df_final, x='is_fully_satisfactory', y='total_amount')"
   ]
  },
  {
   "cell_type": "code",
   "execution_count": 220,
   "id": "3fb632f7",
   "metadata": {},
   "outputs": [
    {
     "data": {
      "text/plain": [
       "<AxesSubplot:xlabel='trip_distance', ylabel='total_amount'>"
      ]
     },
     "execution_count": 220,
     "metadata": {},
     "output_type": "execute_result"
    },
    {
     "data": {
      "image/png": "[encoded data removed]",
      "text/plain": [
       "<Figure size 432x288 with 1 Axes>"
      ]
     },
     "metadata": {
      "needs_background": "light"
     },
     "output_type": "display_data"
    }
   ],
   "source": [
    "sns.scatterplot(data=df_final, x='trip_distance', y='total_amount')"
   ]
  },
  {
   "cell_type": "code",
   "execution_count": 221,
   "id": "8e0f7355",
   "metadata": {},
   "outputs": [
    {
     "data": {
      "text/plain": [
       "<AxesSubplot:xlabel='mta_tax', ylabel='total_amount'>"
      ]
     },
     "execution_count": 221,
     "metadata": {},
     "output_type": "execute_result"
    },
    {
     "data": {
      "image/png": "[encoded data removed]",
      "text/plain": [
       "<Figure size 432x288 with 1 Axes>"
      ]
     },
     "metadata": {
      "needs_background": "light"
     },
     "output_type": "display_data"
    }
   ],
   "source": [
    "sns.scatterplot(data=df_final, x='mta_tax', y='total_amount')"
   ]
  },
  {
   "cell_type": "code",
   "execution_count": 222,
   "id": "e4f4b82f",
   "metadata": {},
   "outputs": [
    {
     "data": {
      "text/plain": [
       "<AxesSubplot:xlabel='is_fully_satisfactory', ylabel='total_amount'>"
      ]
     },
     "execution_count": 222,
     "metadata": {},
     "output_type": "execute_result"
    },
    {
     "data": {
      "image/png": "[encoded data removed]",
      "text/plain": [
       "<Figure size 432x288 with 1 Axes>"
      ]
     },
     "metadata": {
      "needs_background": "light"
     },
     "output_type": "display_data"
    }
   ],
   "source": [
    "sns.boxplot(data=df_final, x='is_fully_satisfactory', y='total_amount')"
   ]
  },
  {
   "cell_type": "code",
   "execution_count": 223,
   "id": "11c38951",
   "metadata": {},
   "outputs": [
    {
     "data": {
      "text/plain": [
       "<AxesSubplot:xlabel='is_payment_online', ylabel='total_amount'>"
      ]
     },
     "execution_count": 223,
     "metadata": {},
     "output_type": "execute_result"
    },
    {
     "data": {
      "image/png": "[encoded data removed]",
      "text/plain": [
       "<Figure size 432x288 with 1 Axes>"
      ]
     },
     "metadata": {
      "needs_background": "light"
     },
     "output_type": "display_data"
    }
   ],
   "source": [
    "sns.boxplot(data=df_final, x='is_payment_online', y='total_amount')"
   ]
  },
  {
   "cell_type": "code",
   "execution_count": 224,
   "id": "9f33907a",
   "metadata": {},
   "outputs": [
    {
     "data": {
      "text/plain": [
       "<AxesSubplot:xlabel='is_store_fwd', ylabel='total_amount'>"
      ]
     },
     "execution_count": 224,
     "metadata": {},
     "output_type": "execute_result"
    },
    {
     "data": {
      "image/png": "[encoded data removed]",
      "text/plain": [
       "<Figure size 432x288 with 1 Axes>"
      ]
     },
     "metadata": {
      "needs_background": "light"
     },
     "output_type": "display_data"
    }
   ],
   "source": [
    "sns.boxplot(data=df_final, x='is_store_fwd', y='total_amount')"
   ]
  },
  {
   "cell_type": "code",
   "execution_count": 226,
   "id": "af205a3c",
   "metadata": {},
   "outputs": [
    {
     "data": {
      "text/plain": [
       "<AxesSubplot:xlabel='is_fully_satisfactory', ylabel='total_amount'>"
      ]
     },
     "execution_count": 226,
     "metadata": {},
     "output_type": "execute_result"
    },
    {
     "data": {
      "image/png": "[encoded data removed]",
      "text/plain": [
       "<Figure size 432x288 with 1 Axes>"
      ]
     },
     "metadata": {
      "needs_background": "light"
     },
     "output_type": "display_data"
    }
   ],
   "source": [
    "sns.violinplot(data=df_final, x='is_fully_satisfactory', y='total_amount')"
   ]
  },
  {
   "cell_type": "code",
   "execution_count": 228,
   "id": "c49a39f0",
   "metadata": {},
   "outputs": [
    {
     "data": {
      "text/plain": [
       "<AxesSubplot:xlabel='is_store_fwd', ylabel='total_amount'>"
      ]
     },
     "execution_count": 228,
     "metadata": {},
     "output_type": "execute_result"
    },
    {
     "data": {
      "image/png": "[encoded data removed]",
      "text/plain": [
       "<Figure size 432x288 with 1 Axes>"
      ]
     },
     "metadata": {
      "needs_background": "light"
     },
     "output_type": "display_data"
    }
   ],
   "source": [
    "sns.violinplot(data=df_final, x='is_store_fwd', y='total_amount')"
   ]
  },
  {
   "cell_type": "code",
   "execution_count": 229,
   "id": "383b64ef",
   "metadata": {},
   "outputs": [
    {
     "data": {
      "text/plain": [
       "<AxesSubplot:xlabel='distance_per_duration', ylabel='total_amount'>"
      ]
     },
     "execution_count": 229,
     "metadata": {},
     "output_type": "execute_result"
    },
    {
     "data": {
      "image/png": "[encoded data removed]",
      "text/plain": [
       "<Figure size 432x288 with 1 Axes>"
      ]
     },
     "metadata": {
      "needs_background": "light"
     },
     "output_type": "display_data"
    }
   ],
   "source": [
    "sns.scatterplot(data=df_final, x='distance_per_duration', y='total_amount')"
   ]
  },
  {
   "cell_type": "code",
   "execution_count": 231,
   "id": "0c55a71a",
   "metadata": {},
   "outputs": [
    {
     "data": {
      "text/plain": [
       "<AxesSubplot:xlabel='trip_distance', ylabel='duration'>"
      ]
     },
     "execution_count": 231,
     "metadata": {},
     "output_type": "execute_result"
    },
    {
     "data": {
      "image/png": "[encoded data removed]",
      "text/plain": [
       "<Figure size 432x288 with 1 Axes>"
      ]
     },
     "metadata": {
      "needs_background": "light"
     },
     "output_type": "display_data"
    }
   ],
   "source": [
    "sns.scatterplot(data=df_final, x='trip_distance', y='duration')"
   ]
  },
  {
   "cell_type": "code",
   "execution_count": 235,
   "id": "ff047ded",
   "metadata": {},
   "outputs": [
    {
     "data": {
      "text/plain": [
       "<AxesSubplot:xlabel='is_payment_online', ylabel='congestion_surcharge'>"
      ]
     },
     "execution_count": 235,
     "metadata": {},
     "output_type": "execute_result"
    },
    {
     "data": {
      "image/png": "[encoded data removed]",
      "text/plain": [
       "<Figure size 432x288 with 1 Axes>"
      ]
     },
     "metadata": {
      "needs_background": "light"
     },
     "output_type": "display_data"
    }
   ],
   "source": [
    "sns.barplot(data=df_final, y='congestion_surcharge', x='is_payment_online')"
   ]
  },
  {
   "cell_type": "code",
   "execution_count": null,
   "id": "d18a8592",
   "metadata": {},
   "outputs": [],
   "source": []
  }
 ],
 "metadata": {
  "kernelspec": {
   "display_name": "Python 3.10.5 64-bit",
   "language": "python",
   "name": "python3"
  },
  "language_info": {
   "codemirror_mode": {
    "name": "ipython",
    "version": 3
   },
   "file_extension": ".py",
   "mimetype": "text/x-python",
   "name": "python",
   "nbconvert_exporter": "python",
   "pygments_lexer": "ipython3",
   "version": "3.10.5"
  },
  "vscode": {
   "interpreter": {
    "hash": "f56a879a86e4cb184598e0f1a037d80ac9bf804487d5cf89fe943b503a6b43f5"
   }
  }
 },
 "nbformat": 4,
 "nbformat_minor": 5
}
